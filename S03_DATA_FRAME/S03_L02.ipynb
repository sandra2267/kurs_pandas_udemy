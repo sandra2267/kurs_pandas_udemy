{
 "cells": [
  {
   "cell_type": "code",
   "execution_count": 1,
   "id": "f3e08b43",
   "metadata": {},
   "outputs": [],
   "source": [
    "import pandas as pd"
   ]
  },
  {
   "cell_type": "code",
   "execution_count": 2,
   "id": "a1ae0188",
   "metadata": {},
   "outputs": [],
   "source": [
    "fuel = pd.read_csv('fuel.csv', low_memory=False, usecols=[ 'Vehicle ID','Year','Make','Model','Class','Fuel Type','Combined MPG (FT1)'])"
   ]
  },
  {
   "cell_type": "code",
   "execution_count": 3,
   "id": "6038cb42",
   "metadata": {},
   "outputs": [
    {
     "data": {
      "text/html": [
       "<div>\n",
       "<style scoped>\n",
       "    .dataframe tbody tr th:only-of-type {\n",
       "        vertical-align: middle;\n",
       "    }\n",
       "\n",
       "    .dataframe tbody tr th {\n",
       "        vertical-align: top;\n",
       "    }\n",
       "\n",
       "    .dataframe thead th {\n",
       "        text-align: right;\n",
       "    }\n",
       "</style>\n",
       "<table border=\"1\" class=\"dataframe\">\n",
       "  <thead>\n",
       "    <tr style=\"text-align: right;\">\n",
       "      <th></th>\n",
       "      <th>Vehicle ID</th>\n",
       "      <th>Year</th>\n",
       "      <th>Make</th>\n",
       "      <th>Model</th>\n",
       "      <th>Class</th>\n",
       "      <th>Fuel Type</th>\n",
       "      <th>Combined MPG (FT1)</th>\n",
       "    </tr>\n",
       "  </thead>\n",
       "  <tbody>\n",
       "    <tr>\n",
       "      <th>0</th>\n",
       "      <td>26587</td>\n",
       "      <td>1984</td>\n",
       "      <td>Alfa Romeo</td>\n",
       "      <td>GT V6 2.5</td>\n",
       "      <td>Minicompact Cars</td>\n",
       "      <td>Regular</td>\n",
       "      <td>20.0</td>\n",
       "    </tr>\n",
       "    <tr>\n",
       "      <th>1</th>\n",
       "      <td>27705</td>\n",
       "      <td>1984</td>\n",
       "      <td>Alfa Romeo</td>\n",
       "      <td>GT V6 2.5</td>\n",
       "      <td>Minicompact Cars</td>\n",
       "      <td>Regular</td>\n",
       "      <td>20.0</td>\n",
       "    </tr>\n",
       "    <tr>\n",
       "      <th>2</th>\n",
       "      <td>26561</td>\n",
       "      <td>1984</td>\n",
       "      <td>Alfa Romeo</td>\n",
       "      <td>Spider Veloce 2000</td>\n",
       "      <td>Two Seaters</td>\n",
       "      <td>Regular</td>\n",
       "      <td>21.0</td>\n",
       "    </tr>\n",
       "    <tr>\n",
       "      <th>3</th>\n",
       "      <td>27681</td>\n",
       "      <td>1984</td>\n",
       "      <td>Alfa Romeo</td>\n",
       "      <td>Spider Veloce 2000</td>\n",
       "      <td>Two Seaters</td>\n",
       "      <td>Regular</td>\n",
       "      <td>21.0</td>\n",
       "    </tr>\n",
       "    <tr>\n",
       "      <th>4</th>\n",
       "      <td>27550</td>\n",
       "      <td>1984</td>\n",
       "      <td>AM General</td>\n",
       "      <td>DJ Po Vehicle 2WD</td>\n",
       "      <td>Special Purpose Vehicle 2WD</td>\n",
       "      <td>Regular</td>\n",
       "      <td>17.0</td>\n",
       "    </tr>\n",
       "  </tbody>\n",
       "</table>\n",
       "</div>"
      ],
      "text/plain": [
       "   Vehicle ID  Year        Make               Model  \\\n",
       "0       26587  1984  Alfa Romeo           GT V6 2.5   \n",
       "1       27705  1984  Alfa Romeo           GT V6 2.5   \n",
       "2       26561  1984  Alfa Romeo  Spider Veloce 2000   \n",
       "3       27681  1984  Alfa Romeo  Spider Veloce 2000   \n",
       "4       27550  1984  AM General   DJ Po Vehicle 2WD   \n",
       "\n",
       "                         Class Fuel Type  Combined MPG (FT1)  \n",
       "0             Minicompact Cars   Regular                20.0  \n",
       "1             Minicompact Cars   Regular                20.0  \n",
       "2                  Two Seaters   Regular                21.0  \n",
       "3                  Two Seaters   Regular                21.0  \n",
       "4  Special Purpose Vehicle 2WD   Regular                17.0  "
      ]
     },
     "execution_count": 3,
     "metadata": {},
     "output_type": "execute_result"
    }
   ],
   "source": [
    "fuel.head()"
   ]
  },
  {
   "cell_type": "code",
   "execution_count": 4,
   "id": "8e58f674",
   "metadata": {},
   "outputs": [
    {
     "name": "stdout",
     "output_type": "stream",
     "text": [
      "<class 'pandas.core.frame.DataFrame'>\n",
      "RangeIndex: 31684 entries, 0 to 31683\n",
      "Data columns (total 7 columns):\n",
      " #   Column              Non-Null Count  Dtype  \n",
      "---  ------              --------------  -----  \n",
      " 0   Vehicle ID          31684 non-null  int64  \n",
      " 1   Year                31684 non-null  int64  \n",
      " 2   Make                31684 non-null  object \n",
      " 3   Model               31683 non-null  object \n",
      " 4   Class               31683 non-null  object \n",
      " 5   Fuel Type           31683 non-null  object \n",
      " 6   Combined MPG (FT1)  31683 non-null  float64\n",
      "dtypes: float64(1), int64(2), object(4)\n",
      "memory usage: 1.7+ MB\n"
     ]
    }
   ],
   "source": [
    "fuel.info()"
   ]
  },
  {
   "cell_type": "code",
   "execution_count": 5,
   "id": "790869e2",
   "metadata": {},
   "outputs": [
    {
     "data": {
      "text/plain": [
       "Vehicle ID              int64\n",
       "Year                    int64\n",
       "Make                   object\n",
       "Model                  object\n",
       "Class                  object\n",
       "Fuel Type              object\n",
       "Combined MPG (FT1)    float64\n",
       "dtype: object"
      ]
     },
     "execution_count": 5,
     "metadata": {},
     "output_type": "execute_result"
    }
   ],
   "source": [
    "fuel.dtypes"
   ]
  },
  {
   "cell_type": "code",
   "execution_count": 8,
   "id": "6e08cd82",
   "metadata": {},
   "outputs": [
    {
     "data": {
      "text/plain": [
       "object     4\n",
       "int64      2\n",
       "float64    1\n",
       "dtype: int64"
      ]
     },
     "execution_count": 8,
     "metadata": {},
     "output_type": "execute_result"
    }
   ],
   "source": [
    "fuel.dtypes.value_counts()"
   ]
  },
  {
   "cell_type": "code",
   "execution_count": 9,
   "id": "87aa52e3",
   "metadata": {},
   "outputs": [
    {
     "data": {
      "text/plain": [
       "Chevrolet                 3389\n",
       "Ford                      2721\n",
       "Dodge                     2361\n",
       "GMC                       2174\n",
       "Toyota                    1599\n",
       "                          ... \n",
       "General Motors               1\n",
       "Panoz Auto-Development       1\n",
       "Goldacre                     1\n",
       "Panos                        1\n",
       "Mitsubish                    1\n",
       "Name: Make, Length: 128, dtype: int64"
      ]
     },
     "execution_count": 9,
     "metadata": {},
     "output_type": "execute_result"
    }
   ],
   "source": [
    "fuel['Make'].value_counts()"
   ]
  },
  {
   "cell_type": "code",
   "execution_count": 10,
   "id": "55a756cd",
   "metadata": {},
   "outputs": [
    {
     "data": {
      "text/plain": [
       "RangeIndex(start=0, stop=31684, step=1)"
      ]
     },
     "execution_count": 10,
     "metadata": {},
     "output_type": "execute_result"
    }
   ],
   "source": [
    "fuel.index"
   ]
  },
  {
   "cell_type": "code",
   "execution_count": 11,
   "id": "16d7a1c0",
   "metadata": {},
   "outputs": [
    {
     "data": {
      "text/plain": [
       "Index(['Vehicle ID', 'Year', 'Make', 'Model', 'Class', 'Fuel Type',\n",
       "       'Combined MPG (FT1)'],\n",
       "      dtype='object')"
      ]
     },
     "execution_count": 11,
     "metadata": {},
     "output_type": "execute_result"
    }
   ],
   "source": [
    "fuel.columns"
   ]
  },
  {
   "cell_type": "code",
   "execution_count": 12,
   "id": "c9eb7c9d",
   "metadata": {},
   "outputs": [
    {
     "data": {
      "text/plain": [
       "array([[26587, 1984, 'Alfa Romeo', ..., 'Minicompact Cars', 'Regular',\n",
       "        20.0],\n",
       "       [27705, 1984, 'Alfa Romeo', ..., 'Minicompact Cars', 'Regular',\n",
       "        20.0],\n",
       "       [26561, 1984, 'Alfa Romeo', ..., 'Two Seaters', 'Regular', 21.0],\n",
       "       ...,\n",
       "       [32065, 2012, 'Mitsubishi', ..., 'Compact Cars', 'Premium', 19.0],\n",
       "       [32064, 2012, 'Mitsubishi', ..., 'Compact Cars', 'Premium', 19.0],\n",
       "       [32106, 2012, 'Mitsubish', ..., nan, nan, nan]], dtype=object)"
      ]
     },
     "execution_count": 12,
     "metadata": {},
     "output_type": "execute_result"
    }
   ],
   "source": [
    "fuel.values"
   ]
  },
  {
   "cell_type": "code",
   "execution_count": 13,
   "id": "e79a7efe",
   "metadata": {},
   "outputs": [
    {
     "data": {
      "text/plain": [
       "[RangeIndex(start=0, stop=31684, step=1),\n",
       " Index(['Vehicle ID', 'Year', 'Make', 'Model', 'Class', 'Fuel Type',\n",
       "        'Combined MPG (FT1)'],\n",
       "       dtype='object')]"
      ]
     },
     "execution_count": 13,
     "metadata": {},
     "output_type": "execute_result"
    }
   ],
   "source": [
    "fuel.axes"
   ]
  },
  {
   "cell_type": "code",
   "execution_count": 14,
   "id": "994acbc2",
   "metadata": {},
   "outputs": [
    {
     "data": {
      "text/plain": [
       "(31684, 7)"
      ]
     },
     "execution_count": 14,
     "metadata": {},
     "output_type": "execute_result"
    }
   ],
   "source": [
    "fuel.shape"
   ]
  },
  {
   "cell_type": "code",
   "execution_count": 15,
   "id": "31a14c32",
   "metadata": {},
   "outputs": [
    {
     "data": {
      "text/plain": [
       "<bound method DataFrame.count of        Vehicle ID  Year        Make               Model  \\\n",
       "0           26587  1984  Alfa Romeo           GT V6 2.5   \n",
       "1           27705  1984  Alfa Romeo           GT V6 2.5   \n",
       "2           26561  1984  Alfa Romeo  Spider Veloce 2000   \n",
       "3           27681  1984  Alfa Romeo  Spider Veloce 2000   \n",
       "4           27550  1984  AM General   DJ Po Vehicle 2WD   \n",
       "...           ...   ...         ...                 ...   \n",
       "31679       32060  2012  Mitsubishi              Lancer   \n",
       "31680       32063  2012  Mitsubishi          Lancer AWD   \n",
       "31681       32065  2012  Mitsubishi    Lancer Evolution   \n",
       "31682       32064  2012  Mitsubishi    Lancer Evolution   \n",
       "31683       32106  2012   Mitsubish                 NaN   \n",
       "\n",
       "                             Class Fuel Type  Combined MPG (FT1)  \n",
       "0                 Minicompact Cars   Regular                20.0  \n",
       "1                 Minicompact Cars   Regular                20.0  \n",
       "2                      Two Seaters   Regular                21.0  \n",
       "3                      Two Seaters   Regular                21.0  \n",
       "4      Special Purpose Vehicle 2WD   Regular                17.0  \n",
       "...                            ...       ...                 ...  \n",
       "31679                 Compact Cars   Regular                25.0  \n",
       "31680                 Compact Cars   Regular                25.0  \n",
       "31681                 Compact Cars   Premium                19.0  \n",
       "31682                 Compact Cars   Premium                19.0  \n",
       "31683                          NaN       NaN                 NaN  \n",
       "\n",
       "[31684 rows x 7 columns]>"
      ]
     },
     "execution_count": 15,
     "metadata": {},
     "output_type": "execute_result"
    }
   ],
   "source": [
    "fuel.count"
   ]
  },
  {
   "cell_type": "code",
   "execution_count": 16,
   "id": "03ac77d6",
   "metadata": {},
   "outputs": [
    {
     "data": {
      "text/plain": [
       "31684"
      ]
     },
     "execution_count": 16,
     "metadata": {},
     "output_type": "execute_result"
    }
   ],
   "source": [
    "len(fuel)"
   ]
  },
  {
   "cell_type": "code",
   "execution_count": null,
   "id": "e2f423e3",
   "metadata": {},
   "outputs": [],
   "source": []
  }
 ],
 "metadata": {
  "kernelspec": {
   "display_name": "Python 3 (ipykernel)",
   "language": "python",
   "name": "python3"
  },
  "language_info": {
   "codemirror_mode": {
    "name": "ipython",
    "version": 3
   },
   "file_extension": ".py",
   "mimetype": "text/x-python",
   "name": "python",
   "nbconvert_exporter": "python",
   "pygments_lexer": "ipython3",
   "version": "3.10.0"
  }
 },
 "nbformat": 4,
 "nbformat_minor": 5
}
