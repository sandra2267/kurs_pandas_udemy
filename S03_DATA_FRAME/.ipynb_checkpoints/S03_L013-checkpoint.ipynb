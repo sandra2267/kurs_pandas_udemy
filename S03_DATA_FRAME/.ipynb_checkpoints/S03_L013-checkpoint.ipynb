{
 "cells": [
  {
   "cell_type": "code",
   "execution_count": 1,
   "id": "e97c21ce",
   "metadata": {},
   "outputs": [],
   "source": [
    "import pandas as pd"
   ]
  },
  {
   "cell_type": "code",
   "execution_count": 2,
   "id": "4429b9ae",
   "metadata": {},
   "outputs": [],
   "source": [
    "surveys = pd.read_csv('/Users/sandramarczak/Documents/udemy/pandas_rafal_mobilo/course-files/StackOverflowDeveloperSurvey2018.csv', usecols=['Country','Gender','OperatingSystem'], low_memory=False)"
   ]
  },
  {
   "cell_type": "code",
   "execution_count": 3,
   "id": "10893187",
   "metadata": {},
   "outputs": [
    {
     "data": {
      "text/html": [
       "<div>\n",
       "<style scoped>\n",
       "    .dataframe tbody tr th:only-of-type {\n",
       "        vertical-align: middle;\n",
       "    }\n",
       "\n",
       "    .dataframe tbody tr th {\n",
       "        vertical-align: top;\n",
       "    }\n",
       "\n",
       "    .dataframe thead th {\n",
       "        text-align: right;\n",
       "    }\n",
       "</style>\n",
       "<table border=\"1\" class=\"dataframe\">\n",
       "  <thead>\n",
       "    <tr style=\"text-align: right;\">\n",
       "      <th></th>\n",
       "      <th>Country</th>\n",
       "      <th>OperatingSystem</th>\n",
       "      <th>Gender</th>\n",
       "    </tr>\n",
       "  </thead>\n",
       "  <tbody>\n",
       "    <tr>\n",
       "      <th>0</th>\n",
       "      <td>Kenya</td>\n",
       "      <td>Linux-based</td>\n",
       "      <td>Male</td>\n",
       "    </tr>\n",
       "    <tr>\n",
       "      <th>1</th>\n",
       "      <td>United Kingdom</td>\n",
       "      <td>Linux-based</td>\n",
       "      <td>Male</td>\n",
       "    </tr>\n",
       "    <tr>\n",
       "      <th>2</th>\n",
       "      <td>United States</td>\n",
       "      <td>NaN</td>\n",
       "      <td>NaN</td>\n",
       "    </tr>\n",
       "    <tr>\n",
       "      <th>3</th>\n",
       "      <td>United States</td>\n",
       "      <td>Windows</td>\n",
       "      <td>Male</td>\n",
       "    </tr>\n",
       "    <tr>\n",
       "      <th>4</th>\n",
       "      <td>South Africa</td>\n",
       "      <td>Windows</td>\n",
       "      <td>Male</td>\n",
       "    </tr>\n",
       "  </tbody>\n",
       "</table>\n",
       "</div>"
      ],
      "text/plain": [
       "          Country OperatingSystem Gender\n",
       "0           Kenya     Linux-based   Male\n",
       "1  United Kingdom     Linux-based   Male\n",
       "2   United States             NaN    NaN\n",
       "3   United States         Windows   Male\n",
       "4    South Africa         Windows   Male"
      ]
     },
     "execution_count": 3,
     "metadata": {},
     "output_type": "execute_result"
    }
   ],
   "source": [
    "surveys.head()"
   ]
  },
  {
   "cell_type": "code",
   "execution_count": 6,
   "id": "ed8e9f69",
   "metadata": {},
   "outputs": [
    {
     "data": {
      "text/plain": [
       "array(['Kenya', 'United Kingdom', 'United States', 'South Africa',\n",
       "       'Nigeria', 'India', 'Spain', 'Croatia', 'Netherlands', 'Israel',\n",
       "       'Sweden', 'Chile', 'Australia', 'Greece', 'Poland', 'Belgium',\n",
       "       'Argentina', 'Germany', 'Russian Federation', 'Indonesia',\n",
       "       'Ireland', 'France', 'Ukraine', 'Denmark', 'Dominican Republic',\n",
       "       'China', 'Latvia', 'Algeria', 'Colombia', 'Japan', 'Finland',\n",
       "       'Romania', 'Brazil', 'Bulgaria', 'Iran, Islamic Republic of...',\n",
       "       'Nepal', 'Bangladesh', 'Pakistan', 'Canada', 'Jordan', 'Portugal',\n",
       "       'Italy', 'New Zealand', 'Turkey', 'Czech Republic', 'Viet Nam',\n",
       "       'Austria', 'Egypt', 'Malaysia', 'Mozambique', 'Thailand',\n",
       "       'Slovakia', 'Lebanon', 'Mexico', 'Hong Kong (S.A.R.)', 'Norway',\n",
       "       'Myanmar', 'Switzerland', 'South Korea', 'Hungary', 'Armenia',\n",
       "       'Kazakhstan', 'United Arab Emirates', 'Singapore', 'Qatar',\n",
       "       'Bosnia and Herzegovina', 'Bahrain', 'Sri Lanka', 'Cambodia',\n",
       "       'Serbia', 'Philippines', 'Peru', 'Botswana', 'Paraguay', 'Georgia',\n",
       "       'Uruguay', 'Belarus', 'Lithuania', 'Afghanistan', 'Estonia',\n",
       "       'Malta', 'Costa Rica', 'Ghana', 'Taiwan', 'Morocco', 'Albania',\n",
       "       'Saudi Arabia', 'Slovenia', 'Uzbekistan', 'Republic of Korea',\n",
       "       'El Salvador', 'Iceland', 'Venezuela, Bolivarian Republic of...',\n",
       "       'Nicaragua', 'Other Country (Not Listed Above)', 'Tunisia',\n",
       "       'The former Yugoslav Republic of Macedonia',\n",
       "       'Micronesia, Federated States of...', 'Madagascar', 'Rwanda',\n",
       "       'Yemen', 'Uganda', 'United Republic of Tanzania', 'Cameroon',\n",
       "       'Cuba', 'Ethiopia', 'Oman', 'Ecuador', 'Angola',\n",
       "       'Republic of Moldova', 'Honduras', 'Azerbaijan', 'Cyprus',\n",
       "       'Bhutan', 'Guatemala', 'Syrian Arab Republic', 'Kuwait',\n",
       "       'Luxembourg', 'Jamaica', 'Zimbabwe', 'San Marino', 'Fiji',\n",
       "       'Liechtenstein', 'Burundi', 'Bolivia', 'Mauritius', 'Somalia',\n",
       "       'Montenegro', 'Mongolia', 'Sudan', 'Maldives', 'Turkmenistan',\n",
       "       'Panama', 'Barbados', 'Lesotho', 'Namibia', 'Gabon', 'Kyrgyzstan',\n",
       "       'Swaziland', 'Antigua and Barbuda', 'Marshall Islands',\n",
       "       'Trinidad and Tobago', 'Senegal', 'Iraq', 'Haiti', 'Malawi',\n",
       "       'Benin', 'Libyan Arab Jamahiriya', 'Tajikistan',\n",
       "       'Democratic Republic of the Congo', 'Andorra', 'Guinea',\n",
       "       \"Côte d'Ivoire\", 'Bahamas', 'Central African Republic', 'Monaco',\n",
       "       'Gambia', 'Sierra Leone', 'Togo', 'Palau', 'Zambia', 'Grenada',\n",
       "       'Burkina Faso', 'Belize', 'Congo, Republic of the...', 'Suriname',\n",
       "       'Timor-Leste', 'Dominica', 'Solomon Islands', 'Saint Lucia',\n",
       "       'Niger', 'Guyana', 'Nauru', 'Mauritania', 'Mali', 'Liberia',\n",
       "       'Brunei Darussalam', 'North Korea', 'Cape Verde', 'Eritrea',\n",
       "       \"Democratic People's Republic of Korea\", 'Djibouti', nan,\n",
       "       'Guinea-Bissau'], dtype=object)"
      ]
     },
     "execution_count": 6,
     "metadata": {},
     "output_type": "execute_result"
    }
   ],
   "source": [
    "surveys['Country'].unique()"
   ]
  },
  {
   "cell_type": "code",
   "execution_count": 7,
   "id": "4f5f8b7f",
   "metadata": {},
   "outputs": [
    {
     "data": {
      "text/plain": [
       "184"
      ]
     },
     "execution_count": 7,
     "metadata": {},
     "output_type": "execute_result"
    }
   ],
   "source": [
    "len(surveys['Country'].unique())"
   ]
  },
  {
   "cell_type": "code",
   "execution_count": 8,
   "id": "32a112cc",
   "metadata": {},
   "outputs": [
    {
     "data": {
      "text/plain": [
       "183"
      ]
     },
     "execution_count": 8,
     "metadata": {},
     "output_type": "execute_result"
    }
   ],
   "source": [
    "surveys['Country'].nunique()"
   ]
  },
  {
   "cell_type": "code",
   "execution_count": 9,
   "id": "0eae8a90",
   "metadata": {},
   "outputs": [],
   "source": [
    "duplicatesKeepFirst = surveys.duplicated(keep='first')"
   ]
  },
  {
   "cell_type": "code",
   "execution_count": 11,
   "id": "52062eff",
   "metadata": {},
   "outputs": [
    {
     "data": {
      "text/html": [
       "<div>\n",
       "<style scoped>\n",
       "    .dataframe tbody tr th:only-of-type {\n",
       "        vertical-align: middle;\n",
       "    }\n",
       "\n",
       "    .dataframe tbody tr th {\n",
       "        vertical-align: top;\n",
       "    }\n",
       "\n",
       "    .dataframe thead th {\n",
       "        text-align: right;\n",
       "    }\n",
       "</style>\n",
       "<table border=\"1\" class=\"dataframe\">\n",
       "  <thead>\n",
       "    <tr style=\"text-align: right;\">\n",
       "      <th></th>\n",
       "      <th>Country</th>\n",
       "      <th>OperatingSystem</th>\n",
       "      <th>Gender</th>\n",
       "    </tr>\n",
       "  </thead>\n",
       "  <tbody>\n",
       "    <tr>\n",
       "      <th>0</th>\n",
       "      <td>Kenya</td>\n",
       "      <td>Linux-based</td>\n",
       "      <td>Male</td>\n",
       "    </tr>\n",
       "    <tr>\n",
       "      <th>1</th>\n",
       "      <td>United Kingdom</td>\n",
       "      <td>Linux-based</td>\n",
       "      <td>Male</td>\n",
       "    </tr>\n",
       "    <tr>\n",
       "      <th>2</th>\n",
       "      <td>United States</td>\n",
       "      <td>NaN</td>\n",
       "      <td>NaN</td>\n",
       "    </tr>\n",
       "    <tr>\n",
       "      <th>3</th>\n",
       "      <td>United States</td>\n",
       "      <td>Windows</td>\n",
       "      <td>Male</td>\n",
       "    </tr>\n",
       "    <tr>\n",
       "      <th>4</th>\n",
       "      <td>South Africa</td>\n",
       "      <td>Windows</td>\n",
       "      <td>Male</td>\n",
       "    </tr>\n",
       "    <tr>\n",
       "      <th>...</th>\n",
       "      <td>...</td>\n",
       "      <td>...</td>\n",
       "      <td>...</td>\n",
       "    </tr>\n",
       "    <tr>\n",
       "      <th>97024</th>\n",
       "      <td>Côte d'Ivoire</td>\n",
       "      <td>NaN</td>\n",
       "      <td>NaN</td>\n",
       "    </tr>\n",
       "    <tr>\n",
       "      <th>97155</th>\n",
       "      <td>Micronesia, Federated States of...</td>\n",
       "      <td>NaN</td>\n",
       "      <td>NaN</td>\n",
       "    </tr>\n",
       "    <tr>\n",
       "      <th>97420</th>\n",
       "      <td>Liberia</td>\n",
       "      <td>NaN</td>\n",
       "      <td>NaN</td>\n",
       "    </tr>\n",
       "    <tr>\n",
       "      <th>97726</th>\n",
       "      <td>Fiji</td>\n",
       "      <td>NaN</td>\n",
       "      <td>NaN</td>\n",
       "    </tr>\n",
       "    <tr>\n",
       "      <th>98254</th>\n",
       "      <td>Cape Verde</td>\n",
       "      <td>NaN</td>\n",
       "      <td>NaN</td>\n",
       "    </tr>\n",
       "  </tbody>\n",
       "</table>\n",
       "<p>1789 rows × 3 columns</p>\n",
       "</div>"
      ],
      "text/plain": [
       "                                  Country OperatingSystem Gender\n",
       "0                                   Kenya     Linux-based   Male\n",
       "1                          United Kingdom     Linux-based   Male\n",
       "2                           United States             NaN    NaN\n",
       "3                           United States         Windows   Male\n",
       "4                            South Africa         Windows   Male\n",
       "...                                   ...             ...    ...\n",
       "97024                       Côte d'Ivoire             NaN    NaN\n",
       "97155  Micronesia, Federated States of...             NaN    NaN\n",
       "97420                             Liberia             NaN    NaN\n",
       "97726                                Fiji             NaN    NaN\n",
       "98254                          Cape Verde             NaN    NaN\n",
       "\n",
       "[1789 rows x 3 columns]"
      ]
     },
     "execution_count": 11,
     "metadata": {},
     "output_type": "execute_result"
    }
   ],
   "source": [
    "surveys[~duplicatesKeepFirst]"
   ]
  },
  {
   "cell_type": "code",
   "execution_count": 12,
   "id": "b7da7f4f",
   "metadata": {},
   "outputs": [
    {
     "data": {
      "text/plain": [
       "1789"
      ]
     },
     "execution_count": 12,
     "metadata": {},
     "output_type": "execute_result"
    }
   ],
   "source": [
    "len(surveys[~duplicatesKeepFirst])"
   ]
  },
  {
   "cell_type": "code",
   "execution_count": 16,
   "id": "45a46590",
   "metadata": {},
   "outputs": [],
   "source": [
    "surveys.drop_duplicates(subset=['Country', 'OperatingSystem'], inplace=True)"
   ]
  },
  {
   "cell_type": "code",
   "execution_count": 17,
   "id": "12970cd2",
   "metadata": {},
   "outputs": [
    {
     "data": {
      "text/html": [
       "<div>\n",
       "<style scoped>\n",
       "    .dataframe tbody tr th:only-of-type {\n",
       "        vertical-align: middle;\n",
       "    }\n",
       "\n",
       "    .dataframe tbody tr th {\n",
       "        vertical-align: top;\n",
       "    }\n",
       "\n",
       "    .dataframe thead th {\n",
       "        text-align: right;\n",
       "    }\n",
       "</style>\n",
       "<table border=\"1\" class=\"dataframe\">\n",
       "  <thead>\n",
       "    <tr style=\"text-align: right;\">\n",
       "      <th></th>\n",
       "      <th>Country</th>\n",
       "      <th>OperatingSystem</th>\n",
       "      <th>Gender</th>\n",
       "    </tr>\n",
       "  </thead>\n",
       "  <tbody>\n",
       "    <tr>\n",
       "      <th>0</th>\n",
       "      <td>Kenya</td>\n",
       "      <td>Linux-based</td>\n",
       "      <td>Male</td>\n",
       "    </tr>\n",
       "    <tr>\n",
       "      <th>1</th>\n",
       "      <td>United Kingdom</td>\n",
       "      <td>Linux-based</td>\n",
       "      <td>Male</td>\n",
       "    </tr>\n",
       "    <tr>\n",
       "      <th>2</th>\n",
       "      <td>United States</td>\n",
       "      <td>NaN</td>\n",
       "      <td>NaN</td>\n",
       "    </tr>\n",
       "    <tr>\n",
       "      <th>3</th>\n",
       "      <td>United States</td>\n",
       "      <td>Windows</td>\n",
       "      <td>Male</td>\n",
       "    </tr>\n",
       "    <tr>\n",
       "      <th>4</th>\n",
       "      <td>South Africa</td>\n",
       "      <td>Windows</td>\n",
       "      <td>Male</td>\n",
       "    </tr>\n",
       "    <tr>\n",
       "      <th>...</th>\n",
       "      <td>...</td>\n",
       "      <td>...</td>\n",
       "      <td>...</td>\n",
       "    </tr>\n",
       "    <tr>\n",
       "      <th>97024</th>\n",
       "      <td>Côte d'Ivoire</td>\n",
       "      <td>NaN</td>\n",
       "      <td>NaN</td>\n",
       "    </tr>\n",
       "    <tr>\n",
       "      <th>97155</th>\n",
       "      <td>Micronesia, Federated States of...</td>\n",
       "      <td>NaN</td>\n",
       "      <td>NaN</td>\n",
       "    </tr>\n",
       "    <tr>\n",
       "      <th>97420</th>\n",
       "      <td>Liberia</td>\n",
       "      <td>NaN</td>\n",
       "      <td>NaN</td>\n",
       "    </tr>\n",
       "    <tr>\n",
       "      <th>97726</th>\n",
       "      <td>Fiji</td>\n",
       "      <td>NaN</td>\n",
       "      <td>NaN</td>\n",
       "    </tr>\n",
       "    <tr>\n",
       "      <th>98254</th>\n",
       "      <td>Cape Verde</td>\n",
       "      <td>NaN</td>\n",
       "      <td>NaN</td>\n",
       "    </tr>\n",
       "  </tbody>\n",
       "</table>\n",
       "<p>669 rows × 3 columns</p>\n",
       "</div>"
      ],
      "text/plain": [
       "                                  Country OperatingSystem Gender\n",
       "0                                   Kenya     Linux-based   Male\n",
       "1                          United Kingdom     Linux-based   Male\n",
       "2                           United States             NaN    NaN\n",
       "3                           United States         Windows   Male\n",
       "4                            South Africa         Windows   Male\n",
       "...                                   ...             ...    ...\n",
       "97024                       Côte d'Ivoire             NaN    NaN\n",
       "97155  Micronesia, Federated States of...             NaN    NaN\n",
       "97420                             Liberia             NaN    NaN\n",
       "97726                                Fiji             NaN    NaN\n",
       "98254                          Cape Verde             NaN    NaN\n",
       "\n",
       "[669 rows x 3 columns]"
      ]
     },
     "execution_count": 17,
     "metadata": {},
     "output_type": "execute_result"
    }
   ],
   "source": [
    "surveys"
   ]
  },
  {
   "cell_type": "code",
   "execution_count": 18,
   "id": "ddffd4c0",
   "metadata": {},
   "outputs": [],
   "source": [
    "fromPoland = surveys['Country']== 'Poland'"
   ]
  },
  {
   "cell_type": "code",
   "execution_count": 19,
   "id": "5fa2a0f8",
   "metadata": {},
   "outputs": [
    {
     "data": {
      "text/html": [
       "<div>\n",
       "<style scoped>\n",
       "    .dataframe tbody tr th:only-of-type {\n",
       "        vertical-align: middle;\n",
       "    }\n",
       "\n",
       "    .dataframe tbody tr th {\n",
       "        vertical-align: top;\n",
       "    }\n",
       "\n",
       "    .dataframe thead th {\n",
       "        text-align: right;\n",
       "    }\n",
       "</style>\n",
       "<table border=\"1\" class=\"dataframe\">\n",
       "  <thead>\n",
       "    <tr style=\"text-align: right;\">\n",
       "      <th></th>\n",
       "      <th>Country</th>\n",
       "      <th>OperatingSystem</th>\n",
       "      <th>Gender</th>\n",
       "    </tr>\n",
       "  </thead>\n",
       "  <tbody>\n",
       "    <tr>\n",
       "      <th>30</th>\n",
       "      <td>Poland</td>\n",
       "      <td>Linux-based</td>\n",
       "      <td>Male</td>\n",
       "    </tr>\n",
       "    <tr>\n",
       "      <th>34</th>\n",
       "      <td>Poland</td>\n",
       "      <td>Windows</td>\n",
       "      <td>Male</td>\n",
       "    </tr>\n",
       "    <tr>\n",
       "      <th>232</th>\n",
       "      <td>Poland</td>\n",
       "      <td>NaN</td>\n",
       "      <td>NaN</td>\n",
       "    </tr>\n",
       "    <tr>\n",
       "      <th>854</th>\n",
       "      <td>Poland</td>\n",
       "      <td>MacOS</td>\n",
       "      <td>Male</td>\n",
       "    </tr>\n",
       "    <tr>\n",
       "      <th>72587</th>\n",
       "      <td>Poland</td>\n",
       "      <td>BSD/Unix</td>\n",
       "      <td>NaN</td>\n",
       "    </tr>\n",
       "  </tbody>\n",
       "</table>\n",
       "</div>"
      ],
      "text/plain": [
       "      Country OperatingSystem Gender\n",
       "30     Poland     Linux-based   Male\n",
       "34     Poland         Windows   Male\n",
       "232    Poland             NaN    NaN\n",
       "854    Poland           MacOS   Male\n",
       "72587  Poland        BSD/Unix    NaN"
      ]
     },
     "execution_count": 19,
     "metadata": {},
     "output_type": "execute_result"
    }
   ],
   "source": [
    "surveys[fromPoland]"
   ]
  },
  {
   "cell_type": "code",
   "execution_count": null,
   "id": "6943c843",
   "metadata": {},
   "outputs": [],
   "source": []
  }
 ],
 "metadata": {
  "kernelspec": {
   "display_name": "Python 3 (ipykernel)",
   "language": "python",
   "name": "python3"
  },
  "language_info": {
   "codemirror_mode": {
    "name": "ipython",
    "version": 3
   },
   "file_extension": ".py",
   "mimetype": "text/x-python",
   "name": "python",
   "nbconvert_exporter": "python",
   "pygments_lexer": "ipython3",
   "version": "3.10.0"
  }
 },
 "nbformat": 4,
 "nbformat_minor": 5
}
