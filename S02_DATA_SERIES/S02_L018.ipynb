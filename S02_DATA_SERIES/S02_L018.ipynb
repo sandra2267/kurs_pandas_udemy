{
 "cells": [
  {
   "cell_type": "code",
   "execution_count": 1,
   "id": "407cac63",
   "metadata": {},
   "outputs": [],
   "source": [
    "import pandas as pd\n",
    "import random as rd"
   ]
  },
  {
   "cell_type": "code",
   "execution_count": 2,
   "id": "8728b7cd",
   "metadata": {},
   "outputs": [],
   "source": [
    "airplanes = {'PYT001': 'Airbus 320', 'PYT002':'Boeing 737', 'PYT003':'Airbus 321'}"
   ]
  },
  {
   "cell_type": "code",
   "execution_count": 16,
   "id": "b5e17328",
   "metadata": {},
   "outputs": [],
   "source": [
    "aircrafts = pd.Series(airplanes)"
   ]
  },
  {
   "cell_type": "code",
   "execution_count": 17,
   "id": "4c185c4e",
   "metadata": {},
   "outputs": [
    {
     "data": {
      "text/plain": [
       "pandas.core.series.Series"
      ]
     },
     "execution_count": 17,
     "metadata": {},
     "output_type": "execute_result"
    }
   ],
   "source": [
    "type(aircrafts)"
   ]
  },
  {
   "cell_type": "code",
   "execution_count": 18,
   "id": "1a8acdd0",
   "metadata": {},
   "outputs": [],
   "source": [
    "flightsList = []"
   ]
  },
  {
   "cell_type": "code",
   "execution_count": 19,
   "id": "2955bd5f",
   "metadata": {},
   "outputs": [],
   "source": [
    "for i in range(100):\n",
    "    flightsList.append(rd.choice(aircrafts.index))"
   ]
  },
  {
   "cell_type": "code",
   "execution_count": 21,
   "id": "96b18c67",
   "metadata": {},
   "outputs": [
    {
     "data": {
      "text/plain": [
       "['PYT002', 'PYT003', 'PYT003', 'PYT003', 'PYT002']"
      ]
     },
     "execution_count": 21,
     "metadata": {},
     "output_type": "execute_result"
    }
   ],
   "source": [
    "flightsList[:5]"
   ]
  },
  {
   "cell_type": "code",
   "execution_count": 22,
   "id": "eaacee18",
   "metadata": {},
   "outputs": [],
   "source": [
    "flights = pd.Series(flightsList)"
   ]
  },
  {
   "cell_type": "code",
   "execution_count": 23,
   "id": "b4eaa041",
   "metadata": {},
   "outputs": [
    {
     "data": {
      "text/plain": [
       "0    PYT002\n",
       "1    PYT003\n",
       "2    PYT003\n",
       "3    PYT003\n",
       "4    PYT002\n",
       "dtype: object"
      ]
     },
     "execution_count": 23,
     "metadata": {},
     "output_type": "execute_result"
    }
   ],
   "source": [
    "flights.head()"
   ]
  },
  {
   "cell_type": "code",
   "execution_count": 24,
   "id": "161aba12",
   "metadata": {},
   "outputs": [],
   "source": [
    "flights_aircrafts = flights.map(aircrafts) "
   ]
  },
  {
   "cell_type": "code",
   "execution_count": 25,
   "id": "ade98c3c",
   "metadata": {},
   "outputs": [
    {
     "data": {
      "text/plain": [
       "0    Boeing 737\n",
       "1    Airbus 321\n",
       "2    Airbus 321\n",
       "3    Airbus 321\n",
       "4    Boeing 737\n",
       "dtype: object"
      ]
     },
     "execution_count": 25,
     "metadata": {},
     "output_type": "execute_result"
    }
   ],
   "source": [
    "flights_aircrafts.head()"
   ]
  },
  {
   "cell_type": "code",
   "execution_count": null,
   "id": "4795ffea",
   "metadata": {},
   "outputs": [],
   "source": []
  }
 ],
 "metadata": {
  "kernelspec": {
   "display_name": "Python 3 (ipykernel)",
   "language": "python",
   "name": "python3"
  },
  "language_info": {
   "codemirror_mode": {
    "name": "ipython",
    "version": 3
   },
   "file_extension": ".py",
   "mimetype": "text/x-python",
   "name": "python",
   "nbconvert_exporter": "python",
   "pygments_lexer": "ipython3",
   "version": "3.10.0"
  }
 },
 "nbformat": 4,
 "nbformat_minor": 5
}
