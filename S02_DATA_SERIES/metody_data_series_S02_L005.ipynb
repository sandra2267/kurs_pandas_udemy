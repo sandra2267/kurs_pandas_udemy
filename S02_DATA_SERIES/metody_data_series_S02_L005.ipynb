{
 "cells": [
  {
   "cell_type": "code",
   "execution_count": 1,
   "id": "101ac04a",
   "metadata": {},
   "outputs": [],
   "source": [
    "import pandas as pd\n",
    "import numpy as np \n",
    "import matplotlib.pyplot as plt \n",
    "import math as math "
   ]
  },
  {
   "cell_type": "code",
   "execution_count": 2,
   "id": "bec837da",
   "metadata": {},
   "outputs": [],
   "source": [
    "cities = ['Shanghai', 'Bejing', 'Istanbul']\n",
    "population = [4183300, 20794100, 15030000]"
   ]
  },
  {
   "cell_type": "code",
   "execution_count": 8,
   "id": "62f05ed9",
   "metadata": {},
   "outputs": [],
   "source": [
    "popcities_1 = pd.Series(population, cities)"
   ]
  },
  {
   "cell_type": "code",
   "execution_count": 9,
   "id": "b5a9fc02",
   "metadata": {},
   "outputs": [
    {
     "data": {
      "text/plain": [
       "Shanghai     4183300\n",
       "Bejing      20794100\n",
       "Istanbul    15030000\n",
       "dtype: int64"
      ]
     },
     "execution_count": 9,
     "metadata": {},
     "output_type": "execute_result"
    }
   ],
   "source": [
    "popcities_1"
   ]
  },
  {
   "cell_type": "code",
   "execution_count": 10,
   "id": "9c10082c",
   "metadata": {},
   "outputs": [],
   "source": [
    "popcities_2 = pd.Series(index = cities, data = population)"
   ]
  },
  {
   "cell_type": "code",
   "execution_count": 11,
   "id": "9a1e535d",
   "metadata": {},
   "outputs": [
    {
     "data": {
      "text/plain": [
       "Shanghai     4183300\n",
       "Bejing      20794100\n",
       "Istanbul    15030000\n",
       "dtype: int64"
      ]
     },
     "execution_count": 11,
     "metadata": {},
     "output_type": "execute_result"
    }
   ],
   "source": [
    "popcities_2"
   ]
  },
  {
   "cell_type": "code",
   "execution_count": 12,
   "id": "73aaef61",
   "metadata": {},
   "outputs": [
    {
     "data": {
      "text/plain": [
       "40007400"
      ]
     },
     "execution_count": 12,
     "metadata": {},
     "output_type": "execute_result"
    }
   ],
   "source": [
    "popcities_1.sum()"
   ]
  },
  {
   "cell_type": "code",
   "execution_count": 13,
   "id": "31ee0624",
   "metadata": {},
   "outputs": [
    {
     "data": {
      "text/plain": [
       "13335800.0"
      ]
     },
     "execution_count": 13,
     "metadata": {},
     "output_type": "execute_result"
    }
   ],
   "source": [
    "popcities_1.mean()"
   ]
  },
  {
   "cell_type": "code",
   "execution_count": 14,
   "id": "efc4d551",
   "metadata": {},
   "outputs": [
    {
     "data": {
      "text/plain": [
       "Index(['Shanghai', 'Bejing', 'Istanbul'], dtype='object')"
      ]
     },
     "execution_count": 14,
     "metadata": {},
     "output_type": "execute_result"
    }
   ],
   "source": [
    "popcities_1.index"
   ]
  },
  {
   "cell_type": "code",
   "execution_count": 17,
   "id": "bf7f10c8",
   "metadata": {},
   "outputs": [
    {
     "data": {
      "text/plain": [
       "Index(['Shanghai', 'Bejing', 'Istanbul'], dtype='object')"
      ]
     },
     "execution_count": 17,
     "metadata": {},
     "output_type": "execute_result"
    }
   ],
   "source": [
    "popcities_1.keys()"
   ]
  },
  {
   "cell_type": "code",
   "execution_count": 18,
   "id": "56344cef",
   "metadata": {},
   "outputs": [
    {
     "data": {
      "text/plain": [
       "array([ 4183300, 20794100, 15030000])"
      ]
     },
     "execution_count": 18,
     "metadata": {},
     "output_type": "execute_result"
    }
   ],
   "source": [
    "popcities_1.values"
   ]
  },
  {
   "cell_type": "code",
   "execution_count": null,
   "id": "2e2719d7",
   "metadata": {},
   "outputs": [],
   "source": []
  }
 ],
 "metadata": {
  "kernelspec": {
   "display_name": "Python 3 (ipykernel)",
   "language": "python",
   "name": "python3"
  },
  "language_info": {
   "codemirror_mode": {
    "name": "ipython",
    "version": 3
   },
   "file_extension": ".py",
   "mimetype": "text/x-python",
   "name": "python",
   "nbconvert_exporter": "python",
   "pygments_lexer": "ipython3",
   "version": "3.10.0"
  }
 },
 "nbformat": 4,
 "nbformat_minor": 5
}
