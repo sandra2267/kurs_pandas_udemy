{
 "cells": [
  {
   "cell_type": "code",
   "execution_count": 1,
   "id": "54e94dcf",
   "metadata": {},
   "outputs": [],
   "source": [
    "import pandas as pd \n",
    "import numpy as np \n",
    "import matplotlib.pyplot as plt\n",
    "import math as math "
   ]
  },
  {
   "cell_type": "code",
   "execution_count": 28,
   "id": "e80e5c3f",
   "metadata": {},
   "outputs": [],
   "source": [
    "countriesList = ['Albania','Austria','Belarus', 'Belgium','Bulgaria','Croatia','Cyprus','Czech Republic','Denmark','Estonia', 'Finland','France','Germany','Greece','Hungary','Iceland','Ireland','Italy', 'Latvia','Lithuania','Luxembourg','Macedonia','Malta','Montenegro','Netherlands', 'Norway','Poland','Portugal','Romania','Russia','Serbia','Slovenia','Spain', 'Sweden','Switzerland','United Kingdom','Turkey','Ukraine']\n",
    "energy2010List = [1947,8347,3564,8369,4560,3814,4623,6348,6328,6506,16483,7736,7264,5318,3876, 51440,5911,5494,3230,3471,16830,3521,4171,5420,7010,24891,3797,4959,2551]\n",
    "energy2012List = [2118,8507,3698,7987,4762,3819,4057,6305,6039,6689,15687,7344,7270,5511,3919, 53203,5665,5398,3588,3608,14696,3626,4761,5416,6871,23658,3899,4736,2604, 6617,4387,6778,5573,14290,7886,2794,3641,5452] "
   ]
  },
  {
   "cell_type": "code",
   "execution_count": 29,
   "id": "d9c16f6d",
   "metadata": {},
   "outputs": [],
   "source": [
    "countriesSeries = pd.Series(countriesList)\n",
    "energy2010Series = pd.Series(energy2010List)\n",
    "energy2012Series = pd.Series(energy2012List)"
   ]
  },
  {
   "cell_type": "code",
   "execution_count": 6,
   "id": "00c2a3df",
   "metadata": {},
   "outputs": [],
   "source": [
    "mean2010 = energy2010Series.mean()"
   ]
  },
  {
   "cell_type": "code",
   "execution_count": 7,
   "id": "12fb8036",
   "metadata": {},
   "outputs": [
    {
     "data": {
      "text/plain": [
       "8199.275862068966"
      ]
     },
     "execution_count": 7,
     "metadata": {},
     "output_type": "execute_result"
    }
   ],
   "source": [
    "mean2010"
   ]
  },
  {
   "cell_type": "code",
   "execution_count": 8,
   "id": "c0dd2ca3",
   "metadata": {},
   "outputs": [],
   "source": [
    "mean2012 = energy2012Series.mean()"
   ]
  },
  {
   "cell_type": "code",
   "execution_count": 9,
   "id": "2f0691d9",
   "metadata": {},
   "outputs": [
    {
     "data": {
      "text/plain": [
       "7706.815789473684"
      ]
     },
     "execution_count": 9,
     "metadata": {},
     "output_type": "execute_result"
    }
   ],
   "source": [
    "mean2012\n"
   ]
  },
  {
   "cell_type": "code",
   "execution_count": 23,
   "id": "60687df4",
   "metadata": {},
   "outputs": [],
   "source": [
    "filterAboveMean2010 = energy2010Series > mean2010"
   ]
  },
  {
   "cell_type": "code",
   "execution_count": 15,
   "id": "85800cd1",
   "metadata": {
    "collapsed": true
   },
   "outputs": [
    {
     "data": {
      "text/plain": [
       "0     False\n",
       "1      True\n",
       "2     False\n",
       "3      True\n",
       "4     False\n",
       "5     False\n",
       "6     False\n",
       "7     False\n",
       "8     False\n",
       "9     False\n",
       "10     True\n",
       "11    False\n",
       "12    False\n",
       "13    False\n",
       "14    False\n",
       "15     True\n",
       "16    False\n",
       "17    False\n",
       "18    False\n",
       "19    False\n",
       "20     True\n",
       "21    False\n",
       "22    False\n",
       "23    False\n",
       "24    False\n",
       "25     True\n",
       "26    False\n",
       "27    False\n",
       "28    False\n",
       "dtype: bool"
      ]
     },
     "execution_count": 15,
     "metadata": {},
     "output_type": "execute_result"
    }
   ],
   "source": [
    "filterAboveMean2010"
   ]
  },
  {
   "cell_type": "code",
   "execution_count": 24,
   "id": "b74c1238",
   "metadata": {},
   "outputs": [],
   "source": [
    "filterAboveMean2012 = energy2012Series > mean2012"
   ]
  },
  {
   "cell_type": "code",
   "execution_count": 17,
   "id": "63403924",
   "metadata": {
    "collapsed": true
   },
   "outputs": [
    {
     "data": {
      "text/plain": [
       "0     False\n",
       "1      True\n",
       "2     False\n",
       "3      True\n",
       "4     False\n",
       "5     False\n",
       "6     False\n",
       "7     False\n",
       "8     False\n",
       "9     False\n",
       "10     True\n",
       "11    False\n",
       "12    False\n",
       "13    False\n",
       "14    False\n",
       "15     True\n",
       "16    False\n",
       "17    False\n",
       "18    False\n",
       "19    False\n",
       "20     True\n",
       "21    False\n",
       "22    False\n",
       "23    False\n",
       "24    False\n",
       "25     True\n",
       "26    False\n",
       "27    False\n",
       "28    False\n",
       "29    False\n",
       "30    False\n",
       "31    False\n",
       "32    False\n",
       "33     True\n",
       "34     True\n",
       "35    False\n",
       "36    False\n",
       "37    False\n",
       "dtype: bool"
      ]
     },
     "execution_count": 17,
     "metadata": {},
     "output_type": "execute_result"
    }
   ],
   "source": [
    "filterAboveMean2012"
   ]
  },
  {
   "cell_type": "code",
   "execution_count": 30,
   "id": "30a09c0b",
   "metadata": {},
   "outputs": [
    {
     "data": {
      "text/plain": [
       "1        Austria\n",
       "3        Belgium\n",
       "10       Finland\n",
       "15       Iceland\n",
       "20    Luxembourg\n",
       "25        Norway\n",
       "dtype: object"
      ]
     },
     "execution_count": 30,
     "metadata": {},
     "output_type": "execute_result"
    }
   ],
   "source": [
    "countriesSeries.where(filterAboveMean2010 & filterAboveMean2012).dropna()"
   ]
  },
  {
   "cell_type": "code",
   "execution_count": 31,
   "id": "d87865ff",
   "metadata": {},
   "outputs": [],
   "source": [
    "filterBelowMean2010 = energy2010Series < mean2010\n",
    "filterBelowMean2012 = energy2012Series < mean2012"
   ]
  },
  {
   "cell_type": "code",
   "execution_count": 32,
   "id": "82f75bef",
   "metadata": {},
   "outputs": [
    {
     "data": {
      "text/plain": [
       "0    NaN\n",
       "dtype: object"
      ]
     },
     "execution_count": 32,
     "metadata": {},
     "output_type": "execute_result"
    }
   ],
   "source": [
    "countreisSeries.where(filterBelowMean2010 & filterAboveMean2012)"
   ]
  },
  {
   "cell_type": "code",
   "execution_count": null,
   "id": "2e310bd1",
   "metadata": {},
   "outputs": [],
   "source": []
  }
 ],
 "metadata": {
  "kernelspec": {
   "display_name": "Python 3 (ipykernel)",
   "language": "python",
   "name": "python3"
  },
  "language_info": {
   "codemirror_mode": {
    "name": "ipython",
    "version": 3
   },
   "file_extension": ".py",
   "mimetype": "text/x-python",
   "name": "python",
   "nbconvert_exporter": "python",
   "pygments_lexer": "ipython3",
   "version": "3.10.0"
  }
 },
 "nbformat": 4,
 "nbformat_minor": 5
}
