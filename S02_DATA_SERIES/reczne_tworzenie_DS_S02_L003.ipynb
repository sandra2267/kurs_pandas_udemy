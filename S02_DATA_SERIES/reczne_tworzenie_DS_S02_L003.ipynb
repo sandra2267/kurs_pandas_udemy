{
 "cells": [
  {
   "cell_type": "code",
   "execution_count": 1,
   "id": "4555d09d",
   "metadata": {},
   "outputs": [],
   "source": [
    "import pandas as pd\n",
    "import numpy as np\n",
    "import matplotlib.pyplot as plt \n",
    "import math as math "
   ]
  },
  {
   "cell_type": "code",
   "execution_count": 2,
   "id": "fcc1713f",
   "metadata": {},
   "outputs": [],
   "source": [
    "weekdays = ['mon', 'tue', 'wed', 'thu', 'fri', 'sat', 'sun']"
   ]
  },
  {
   "cell_type": "code",
   "execution_count": 3,
   "id": "2cd30320",
   "metadata": {},
   "outputs": [],
   "source": [
    "weekdaysSeries = pd.Series(weekdays)"
   ]
  },
  {
   "cell_type": "code",
   "execution_count": 5,
   "id": "1e8edf3f",
   "metadata": {},
   "outputs": [],
   "source": [
    "freeDays = [False, False, False, False, False, True, True]"
   ]
  },
  {
   "cell_type": "code",
   "execution_count": 7,
   "id": "79a144a2",
   "metadata": {},
   "outputs": [],
   "source": [
    "freeDaysSeries = pd.Series(freeDays)"
   ]
  },
  {
   "cell_type": "code",
   "execution_count": null,
   "id": "8ac3053a",
   "metadata": {},
   "outputs": [],
   "source": [
    "holidays = {'NY':'2022-01-01',Epiphany  2018-01-06}"
   ]
  }
 ],
 "metadata": {
  "kernelspec": {
   "display_name": "Python 3 (ipykernel)",
   "language": "python",
   "name": "python3"
  },
  "language_info": {
   "codemirror_mode": {
    "name": "ipython",
    "version": 3
   },
   "file_extension": ".py",
   "mimetype": "text/x-python",
   "name": "python",
   "nbconvert_exporter": "python",
   "pygments_lexer": "ipython3",
   "version": "3.10.0"
  }
 },
 "nbformat": 4,
 "nbformat_minor": 5
}
