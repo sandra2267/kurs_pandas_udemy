{
 "cells": [
  {
   "cell_type": "code",
   "execution_count": 3,
   "id": "65755106",
   "metadata": {},
   "outputs": [],
   "source": [
    "import pandas as pd\n",
    "import numpy as pn\n",
    "import matplotlib.pyplot as plt \n",
    "import math as math"
   ]
  },
  {
   "cell_type": "code",
   "execution_count": 4,
   "id": "490bc014",
   "metadata": {},
   "outputs": [],
   "source": [
    "number_of_victims = [14 ,334,312,5823,9491,7486,4343]\n",
    "age_of_victims = ['> 6', '7-14', '15-17', '18-24', '25-39', '40-59', '< 60']"
   ]
  },
  {
   "cell_type": "code",
   "execution_count": 5,
   "id": "39b2ecf2",
   "metadata": {},
   "outputs": [],
   "source": [
    "incidens = pd.Series(number_of_victims, age_of_victims)"
   ]
  },
  {
   "cell_type": "code",
   "execution_count": 4,
   "id": "cfdff752",
   "metadata": {},
   "outputs": [
    {
     "data": {
      "text/plain": [
       "> 6        14\n",
       "7-14      334\n",
       "15-17     312\n",
       "18-24    5823\n",
       "25-39    9491\n",
       "40-59    7486\n",
       "< 60     4343\n",
       "dtype: int64"
      ]
     },
     "execution_count": 4,
     "metadata": {},
     "output_type": "execute_result"
    }
   ],
   "source": [
    "incidens"
   ]
  },
  {
   "cell_type": "code",
   "execution_count": 6,
   "id": "3a6d4e64",
   "metadata": {},
   "outputs": [
    {
     "name": "stdout",
     "output_type": "stream",
     "text": [
      "> 6         NaN\n",
      "7-14        NaN\n",
      "15-17       NaN\n",
      "18-24    5823.0\n",
      "25-39    9491.0\n",
      "40-59    7486.0\n",
      "< 60     4343.0\n",
      "dtype: float64\n"
     ]
    }
   ],
   "source": [
    "incidens.where(incidens>1000)"
   ]
  },
  {
   "cell_type": "code",
   "execution_count": 9,
   "id": "2764f8c9",
   "metadata": {},
   "outputs": [
    {
     "data": {
      "text/plain": [
       "18-24    5823.0\n",
       "25-39    9491.0\n",
       "40-59    7486.0\n",
       "< 60     4343.0\n",
       "dtype: float64"
      ]
     },
     "execution_count": 9,
     "metadata": {},
     "output_type": "execute_result"
    }
   ],
   "source": [
    "incidens.where(incidens>1000).dropna()"
   ]
  },
  {
   "cell_type": "code",
   "execution_count": 8,
   "id": "95ba7a5e",
   "metadata": {},
   "outputs": [
    {
     "data": {
      "text/plain": [
       "> 6        14\n",
       "7-14      334\n",
       "15-17     312\n",
       "18-24    5823\n",
       "25-39    9491\n",
       "40-59    7486\n",
       "< 60     4343\n",
       "dtype: int64"
      ]
     },
     "execution_count": 8,
     "metadata": {},
     "output_type": "execute_result"
    }
   ],
   "source": [
    "incidens"
   ]
  },
  {
   "cell_type": "code",
   "execution_count": 10,
   "id": "418fc965",
   "metadata": {},
   "outputs": [
    {
     "data": {
      "text/plain": [
       "18-24    5823\n",
       "25-39    9491\n",
       "40-59    7486\n",
       "dtype: int64"
      ]
     },
     "execution_count": 10,
     "metadata": {},
     "output_type": "execute_result"
    }
   ],
   "source": [
    "incidens.filter(items=['18-24', '25-39', '40-59'])"
   ]
  },
  {
   "cell_type": "code",
   "execution_count": 11,
   "id": "957f1da4",
   "metadata": {},
   "outputs": [],
   "source": [
    "incidens.where(incidens <= 1000, inplace=True)"
   ]
  },
  {
   "cell_type": "code",
   "execution_count": 13,
   "id": "a139a839",
   "metadata": {},
   "outputs": [],
   "source": [
    "incidens.dropna(inplace=True)"
   ]
  },
  {
   "cell_type": "code",
   "execution_count": 14,
   "id": "a348503b",
   "metadata": {},
   "outputs": [
    {
     "data": {
      "text/plain": [
       "> 6       14.0\n",
       "7-14     334.0\n",
       "15-17    312.0\n",
       "dtype: float64"
      ]
     },
     "execution_count": 14,
     "metadata": {},
     "output_type": "execute_result"
    }
   ],
   "source": [
    "incidens"
   ]
  },
  {
   "cell_type": "code",
   "execution_count": 6,
   "id": "55c3565b",
   "metadata": {},
   "outputs": [],
   "source": []
  },
  {
   "cell_type": "code",
   "execution_count": 7,
   "id": "2f7b15b7",
   "metadata": {},
   "outputs": [
    {
     "data": {
      "text/plain": [
       "> 6       True\n",
       "7-14      True\n",
       "15-17     True\n",
       "18-24    False\n",
       "25-39    False\n",
       "40-59    False\n",
       "< 60     False\n",
       "dtype: bool"
      ]
     },
     "execution_count": 7,
     "metadata": {},
     "output_type": "execute_result"
    }
   ],
   "source": []
  },
  {
   "cell_type": "code",
   "execution_count": null,
   "id": "f3a054f5",
   "metadata": {},
   "outputs": [],
   "source": []
  }
 ],
 "metadata": {
  "kernelspec": {
   "display_name": "Python 3 (ipykernel)",
   "language": "python",
   "name": "python3"
  },
  "language_info": {
   "codemirror_mode": {
    "name": "ipython",
    "version": 3
   },
   "file_extension": ".py",
   "mimetype": "text/x-python",
   "name": "python",
   "nbconvert_exporter": "python",
   "pygments_lexer": "ipython3",
   "version": "3.10.0"
  }
 },
 "nbformat": 4,
 "nbformat_minor": 5
}
