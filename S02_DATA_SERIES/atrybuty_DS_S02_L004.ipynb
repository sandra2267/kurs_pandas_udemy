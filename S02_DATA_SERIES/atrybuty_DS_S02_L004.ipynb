{
 "cells": [
  {
   "cell_type": "code",
   "execution_count": 2,
   "id": "8c9ba98e",
   "metadata": {},
   "outputs": [],
   "source": [
    "import pandas as pd \n",
    "import numpy as np \n",
    "import matplotlib.pyplot as plt \n",
    "import math as math \n",
    "import random as rnd"
   ]
  },
  {
   "cell_type": "code",
   "execution_count": 3,
   "id": "f7f7d38a",
   "metadata": {},
   "outputs": [],
   "source": [
    "dataAsFloatList = []"
   ]
  },
  {
   "cell_type": "code",
   "execution_count": 4,
   "id": "9e13fed5",
   "metadata": {},
   "outputs": [],
   "source": [
    "for i in range(100000):\n",
    "    dataAsFloatList.append(i*rnd.random())"
   ]
  },
  {
   "cell_type": "code",
   "execution_count": 11,
   "id": "4d5482d1",
   "metadata": {},
   "outputs": [],
   "source": [
    "dataAsFloatSeries = pd.Series(dataAsFloatList)"
   ]
  },
  {
   "cell_type": "code",
   "execution_count": 19,
   "id": "6476ba5f",
   "metadata": {},
   "outputs": [
    {
     "data": {
      "text/plain": [
       "100000"
      ]
     },
     "execution_count": 19,
     "metadata": {},
     "output_type": "execute_result"
    }
   ],
   "source": [
    "dataAsFloatSeries.size\n"
   ]
  },
  {
   "cell_type": "code",
   "execution_count": 18,
   "id": "a51ff6bf",
   "metadata": {},
   "outputs": [
    {
     "data": {
      "text/plain": [
       "800000"
      ]
     },
     "execution_count": 18,
     "metadata": {},
     "output_type": "execute_result"
    }
   ],
   "source": [
    "dataAsFloatSeries.nbytes"
   ]
  },
  {
   "cell_type": "code",
   "execution_count": 20,
   "id": "cf471487",
   "metadata": {},
   "outputs": [
    {
     "data": {
      "text/plain": [
       "(100000,)"
      ]
     },
     "execution_count": 20,
     "metadata": {},
     "output_type": "execute_result"
    }
   ],
   "source": [
    "dataAsFloatSeries.shape"
   ]
  },
  {
   "cell_type": "code",
   "execution_count": 21,
   "id": "728abee3",
   "metadata": {},
   "outputs": [
    {
     "data": {
      "text/plain": [
       "[RangeIndex(start=0, stop=100000, step=1)]"
      ]
     },
     "execution_count": 21,
     "metadata": {},
     "output_type": "execute_result"
    }
   ],
   "source": [
    "dataAsFloatSeries.axes"
   ]
  },
  {
   "cell_type": "code",
   "execution_count": 22,
   "id": "7ce16cb2",
   "metadata": {},
   "outputs": [
    {
     "data": {
      "text/plain": [
       "dtype('float64')"
      ]
     },
     "execution_count": 22,
     "metadata": {},
     "output_type": "execute_result"
    }
   ],
   "source": [
    "dataAsFloatSeries.dtype"
   ]
  },
  {
   "cell_type": "code",
   "execution_count": 23,
   "id": "a8704eec",
   "metadata": {},
   "outputs": [
    {
     "data": {
      "text/plain": [
       "RangeIndex(start=0, stop=100000, step=1)"
      ]
     },
     "execution_count": 23,
     "metadata": {},
     "output_type": "execute_result"
    }
   ],
   "source": [
    "dataAsFloatSeries.index"
   ]
  },
  {
   "cell_type": "code",
   "execution_count": 24,
   "id": "d1f8c1dd",
   "metadata": {},
   "outputs": [
    {
     "data": {
      "text/plain": [
       "True"
      ]
     },
     "execution_count": 24,
     "metadata": {},
     "output_type": "execute_result"
    }
   ],
   "source": [
    "dataAsFloatSeries.is_unique\n"
   ]
  },
  {
   "cell_type": "code",
   "execution_count": 25,
   "id": "c7c3738c",
   "metadata": {},
   "outputs": [
    {
     "data": {
      "text/plain": [
       "False"
      ]
     },
     "execution_count": 25,
     "metadata": {},
     "output_type": "execute_result"
    }
   ],
   "source": [
    "dataAsFloatSeries.is_monotonic"
   ]
  },
  {
   "cell_type": "code",
   "execution_count": 26,
   "id": "0965a19b",
   "metadata": {},
   "outputs": [],
   "source": [
    "dataAsString = []"
   ]
  },
  {
   "cell_type": "code",
   "execution_count": 27,
   "id": "416cbf2d",
   "metadata": {},
   "outputs": [],
   "source": [
    "for j in range(100000):\n",
    "    dataAsString.append(j*rnd.random())"
   ]
  },
  {
   "cell_type": "code",
   "execution_count": 28,
   "id": "d7b62054",
   "metadata": {},
   "outputs": [],
   "source": [
    "dataAsStringSeries = pd.Series(dataAsString)"
   ]
  },
  {
   "cell_type": "code",
   "execution_count": 29,
   "id": "53627021",
   "metadata": {},
   "outputs": [
    {
     "data": {
      "text/plain": [
       "100000"
      ]
     },
     "execution_count": 29,
     "metadata": {},
     "output_type": "execute_result"
    }
   ],
   "source": [
    "dataAsStringSeries.size"
   ]
  },
  {
   "cell_type": "code",
   "execution_count": 30,
   "id": "ea323a39",
   "metadata": {},
   "outputs": [
    {
     "data": {
      "text/plain": [
       "800000"
      ]
     },
     "execution_count": 30,
     "metadata": {},
     "output_type": "execute_result"
    }
   ],
   "source": [
    "dataAsStringSeries.nbytes\n"
   ]
  },
  {
   "cell_type": "code",
   "execution_count": 31,
   "id": "14bbac81",
   "metadata": {},
   "outputs": [
    {
     "data": {
      "text/plain": [
       "dtype('float64')"
      ]
     },
     "execution_count": 31,
     "metadata": {},
     "output_type": "execute_result"
    }
   ],
   "source": [
    "dataAsStringSeries.dtype"
   ]
  },
  {
   "cell_type": "code",
   "execution_count": null,
   "id": "b6d69f68",
   "metadata": {},
   "outputs": [],
   "source": []
  }
 ],
 "metadata": {
  "kernelspec": {
   "display_name": "Python 3 (ipykernel)",
   "language": "python",
   "name": "python3"
  },
  "language_info": {
   "codemirror_mode": {
    "name": "ipython",
    "version": 3
   },
   "file_extension": ".py",
   "mimetype": "text/x-python",
   "name": "python",
   "nbconvert_exporter": "python",
   "pygments_lexer": "ipython3",
   "version": "3.10.0"
  }
 },
 "nbformat": 4,
 "nbformat_minor": 5
}
