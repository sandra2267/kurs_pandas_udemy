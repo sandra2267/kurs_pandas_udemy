{
 "cells": [
  {
   "cell_type": "code",
   "execution_count": 1,
   "id": "4134215a",
   "metadata": {},
   "outputs": [],
   "source": [
    "import pandas as pd"
   ]
  },
  {
   "cell_type": "code",
   "execution_count": 2,
   "id": "375a4c2d",
   "metadata": {},
   "outputs": [],
   "source": [
    "fortune500 = pd.read_csv('Fortune_500_2017.csv', usecols=['Rank', \"Title\"], index_col='Rank').squeeze()"
   ]
  },
  {
   "cell_type": "code",
   "execution_count": 3,
   "id": "f67080f2",
   "metadata": {},
   "outputs": [
    {
     "data": {
      "text/plain": [
       "Rank\n",
       "1                Walmart\n",
       "2     Berkshire Hathaway\n",
       "3                  Apple\n",
       "4            Exxon Mobil\n",
       "5               McKesson\n",
       "6     UnitedHealth Group\n",
       "7             CVS Health\n",
       "8         General Motors\n",
       "9                   AT&T\n",
       "10            Ford Motor\n",
       "Name: Title, dtype: object"
      ]
     },
     "execution_count": 3,
     "metadata": {},
     "output_type": "execute_result"
    }
   ],
   "source": [
    "fortune500.head(10)"
   ]
  },
  {
   "cell_type": "code",
   "execution_count": 4,
   "id": "788c81cd",
   "metadata": {},
   "outputs": [
    {
     "data": {
      "text/plain": [
       "Rank\n",
       "481           Booz Allen Hamilton Holding\n",
       "482                              Chemours\n",
       "483    Western & Southern Financial Group\n",
       "484                              Celanese\n",
       "485                   Windstream Holdings\n",
       "486                              Seaboard\n",
       "487                             Essendant\n",
       "488                                Apache\n",
       "489                                Airgas\n",
       "490                        Kelly Services\n",
       "491                         Liberty Media\n",
       "492                      Rockwell Collins\n",
       "493             Robert Half International\n",
       "494                             CH2M Hill\n",
       "495                              Big Lots\n",
       "496                         Michaels Cos.\n",
       "497                         Toll Brothers\n",
       "498                                 Yahoo\n",
       "499                         Vistra Energy\n",
       "500                        ABM Industries\n",
       "Name: Title, dtype: object"
      ]
     },
     "execution_count": 4,
     "metadata": {},
     "output_type": "execute_result"
    }
   ],
   "source": [
    "fortune500.tail(20)"
   ]
  },
  {
   "cell_type": "code",
   "execution_count": 5,
   "id": "71c64f2c",
   "metadata": {},
   "outputs": [],
   "source": [
    "fortune500_2 = pd.read_csv('Fortune_500_2017.csv', usecols=['Employees', \"Title\"], index_col='Title').squeeze()"
   ]
  },
  {
   "cell_type": "code",
   "execution_count": null,
   "id": "3f3b6a5a",
   "metadata": {},
   "outputs": [],
   "source": [
    "companies = ['IBM', 'Alphabet', 'Facebook', 'Apple']\n",
    "fortune500_2."
   ]
  }
 ],
 "metadata": {
  "kernelspec": {
   "display_name": "Python 3 (ipykernel)",
   "language": "python",
   "name": "python3"
  },
  "language_info": {
   "codemirror_mode": {
    "name": "ipython",
    "version": 3
   },
   "file_extension": ".py",
   "mimetype": "text/x-python",
   "name": "python",
   "nbconvert_exporter": "python",
   "pygments_lexer": "ipython3",
   "version": "3.10.0"
  }
 },
 "nbformat": 4,
 "nbformat_minor": 5
}
