{
 "cells": [
  {
   "cell_type": "code",
   "execution_count": 2,
   "id": "88692ab4-5e66-423a-a669-c1ac84c65c68",
   "metadata": {},
   "outputs": [],
   "source": [
    "import pandas as pd\n",
    "import numpy as np \n",
    "import matplotlib.pyplot as plt\n",
    "import math as math"
   ]
  },
  {
   "cell_type": "code",
   "execution_count": 16,
   "id": "d7fc0f53-329a-4a5a-b540-d198ab9f1f33",
   "metadata": {},
   "outputs": [],
   "source": [
    "salary = pd.read_csv('../dane_do_zadan/survey_results_public.csv', usecols = ['CompTotal']).dropna().squeeze()"
   ]
  },
  {
   "cell_type": "code",
   "execution_count": 17,
   "id": "b712bde5-b070-4bcd-8f68-e81d6efe9451",
   "metadata": {},
   "outputs": [
    {
     "data": {
      "text/plain": [
       "0      4800.0\n",
       "9     42000.0\n",
       "11    43000.0\n",
       "12    71500.0\n",
       "16     9000.0\n",
       "Name: CompTotal, dtype: float64"
      ]
     },
     "execution_count": 17,
     "metadata": {},
     "output_type": "execute_result"
    }
   ],
   "source": [
    "salary.head()"
   ]
  },
  {
   "cell_type": "code",
   "execution_count": 18,
   "id": "3d213903-73eb-46d2-98a5-07accd0dd8e1",
   "metadata": {},
   "outputs": [
    {
     "data": {
      "text/plain": [
       "pandas.core.series.Series"
      ]
     },
     "execution_count": 18,
     "metadata": {},
     "output_type": "execute_result"
    }
   ],
   "source": [
    "type(salary)"
   ]
  },
  {
   "cell_type": "code",
   "execution_count": 19,
   "id": "f3222e68-86e7-4e25-81c7-d4c3ae9a3447",
   "metadata": {},
   "outputs": [
    {
     "data": {
      "text/plain": [
       "6378     1.000000e+74\n",
       "18919    8.000000e+52\n",
       "62417    7.000000e+39\n",
       "103      1.000000e+29\n",
       "23552    1.000000e+25\n",
       "Name: CompTotal, dtype: float64"
      ]
     },
     "execution_count": 19,
     "metadata": {},
     "output_type": "execute_result"
    }
   ],
   "source": [
    "salary.sort_values(ascending=False).head()"
   ]
  },
  {
   "cell_type": "code",
   "execution_count": 20,
   "id": "be2ae078-9e67-41f1-a43e-57a55a79a174",
   "metadata": {},
   "outputs": [
    {
     "data": {
      "text/plain": [
       "6378     1.000000e+74\n",
       "18919    8.000000e+52\n",
       "62417    7.000000e+39\n",
       "103      1.000000e+29\n",
       "23552    1.000000e+25\n",
       "Name: CompTotal, dtype: float64"
      ]
     },
     "execution_count": 20,
     "metadata": {},
     "output_type": "execute_result"
    }
   ],
   "source": [
    "salary.sort_values(ascending=False).head(5)"
   ]
  },
  {
   "cell_type": "code",
   "execution_count": 22,
   "id": "d792b96d-508d-4d73-84c4-5708c47649d3",
   "metadata": {},
   "outputs": [
    {
     "data": {
      "text/plain": [
       "78793    0.0\n",
       "20611    0.0\n",
       "42853    0.0\n",
       "69462    0.0\n",
       "69461    0.0\n",
       "Name: CompTotal, dtype: float64"
      ]
     },
     "execution_count": 22,
     "metadata": {},
     "output_type": "execute_result"
    }
   ],
   "source": [
    "salary.sort_values(ascending=True).head(5)"
   ]
  },
  {
   "cell_type": "code",
   "execution_count": 24,
   "id": "26c89576",
   "metadata": {},
   "outputs": [],
   "source": [
    "salary_sorted = salary.sort_values(ascending=True)"
   ]
  },
  {
   "cell_type": "code",
   "execution_count": 32,
   "id": "2105c737",
   "metadata": {},
   "outputs": [
    {
     "data": {
      "text/plain": [
       "78793    0.0\n",
       "20611    0.0\n",
       "42853    0.0\n",
       "69462    0.0\n",
       "69461    0.0\n",
       "        ... \n",
       "26751    6.0\n",
       "2143     6.0\n",
       "47543    6.0\n",
       "67303    6.0\n",
       "79177    6.0\n",
       "Name: CompTotal, Length: 200, dtype: float64"
      ]
     },
     "execution_count": 32,
     "metadata": {},
     "output_type": "execute_result"
    }
   ],
   "source": [
    "salary_sorted.head(200)"
   ]
  },
  {
   "cell_type": "code",
   "execution_count": 33,
   "id": "4de76d5a",
   "metadata": {},
   "outputs": [
    {
     "data": {
      "text/plain": [
       "0          4800.0\n",
       "9         42000.0\n",
       "11        43000.0\n",
       "12        71500.0\n",
       "16         9000.0\n",
       "           ...   \n",
       "83434    160500.0\n",
       "83435    200000.0\n",
       "83436      1800.0\n",
       "83437     90000.0\n",
       "83438      7700.0\n",
       "Name: CompTotal, Length: 47183, dtype: float64"
      ]
     },
     "execution_count": 33,
     "metadata": {},
     "output_type": "execute_result"
    }
   ],
   "source": [
    "salary.sort_index()"
   ]
  },
  {
   "cell_type": "code",
   "execution_count": 40,
   "id": "ecc45e81",
   "metadata": {},
   "outputs": [],
   "source": [
    "maxSalaries100 =  salary.sort_values(ascending=False).head(100)"
   ]
  },
  {
   "cell_type": "code",
   "execution_count": 41,
   "id": "f36608ad",
   "metadata": {},
   "outputs": [],
   "source": [
    "minSalaries100 = salary_sorted.head(100)"
   ]
  },
  {
   "cell_type": "code",
   "execution_count": 42,
   "id": "02bdfe6a",
   "metadata": {},
   "outputs": [
    {
     "data": {
      "text/plain": [
       "6378     1.000000e+74\n",
       "18919    8.000000e+52\n",
       "62417    7.000000e+39\n",
       "103      1.000000e+29\n",
       "23552    1.000000e+25\n",
       "45850    6.675636e+15\n",
       "69035    4.162026e+15\n",
       "39571    5.474577e+10\n",
       "82156    3.500000e+10\n",
       "37018    1.000000e+10\n",
       "Name: CompTotal, dtype: float64"
      ]
     },
     "execution_count": 42,
     "metadata": {},
     "output_type": "execute_result"
    }
   ],
   "source": [
    "maxSalaries100.head(10)"
   ]
  },
  {
   "cell_type": "code",
   "execution_count": 47,
   "id": "3381a0eb",
   "metadata": {},
   "outputs": [],
   "source": [
    "mean_max = maxSalaries100.mean()"
   ]
  },
  {
   "cell_type": "code",
   "execution_count": 48,
   "id": "fa046785",
   "metadata": {},
   "outputs": [
    {
     "data": {
      "text/plain": [
       "1e+72"
      ]
     },
     "execution_count": 48,
     "metadata": {},
     "output_type": "execute_result"
    }
   ],
   "source": [
    "mean_max"
   ]
  },
  {
   "cell_type": "code",
   "execution_count": 49,
   "id": "262a7e4f",
   "metadata": {},
   "outputs": [],
   "source": [
    "mean_min = minSalaries100.mean()"
   ]
  },
  {
   "cell_type": "code",
   "execution_count": 50,
   "id": "a7677715",
   "metadata": {},
   "outputs": [
    {
     "data": {
      "text/plain": [
       "0.0"
      ]
     },
     "execution_count": 50,
     "metadata": {},
     "output_type": "execute_result"
    }
   ],
   "source": [
    "mean_min"
   ]
  },
  {
   "cell_type": "code",
   "execution_count": null,
   "id": "ab6d8964",
   "metadata": {},
   "outputs": [],
   "source": []
  }
 ],
 "metadata": {
  "kernelspec": {
   "display_name": "Python 3 (ipykernel)",
   "language": "python",
   "name": "python3"
  },
  "language_info": {
   "codemirror_mode": {
    "name": "ipython",
    "version": 3
   },
   "file_extension": ".py",
   "mimetype": "text/x-python",
   "name": "python",
   "nbconvert_exporter": "python",
   "pygments_lexer": "ipython3",
   "version": "3.10.0"
  }
 },
 "nbformat": 4,
 "nbformat_minor": 5
}
