{
 "cells": [
  {
   "cell_type": "code",
   "execution_count": 1,
   "id": "6bcd58de",
   "metadata": {},
   "outputs": [],
   "source": [
    "import pandas as pd"
   ]
  },
  {
   "cell_type": "code",
   "execution_count": 10,
   "id": "81035562",
   "metadata": {},
   "outputs": [],
   "source": [
    "professions = pd.read_csv('/Users/sandramarczak/Documents/udemy/pandas_rafal_mobilo/course-files/Prestige.csv', index_col\n",
    "                          ='name')"
   ]
  },
  {
   "cell_type": "code",
   "execution_count": 11,
   "id": "d933a3a6",
   "metadata": {},
   "outputs": [
    {
     "data": {
      "text/html": [
       "<div>\n",
       "<style scoped>\n",
       "    .dataframe tbody tr th:only-of-type {\n",
       "        vertical-align: middle;\n",
       "    }\n",
       "\n",
       "    .dataframe tbody tr th {\n",
       "        vertical-align: top;\n",
       "    }\n",
       "\n",
       "    .dataframe thead th {\n",
       "        text-align: right;\n",
       "    }\n",
       "</style>\n",
       "<table border=\"1\" class=\"dataframe\">\n",
       "  <thead>\n",
       "    <tr style=\"text-align: right;\">\n",
       "      <th></th>\n",
       "      <th>education</th>\n",
       "      <th>income</th>\n",
       "      <th>women</th>\n",
       "      <th>prestige</th>\n",
       "      <th>census</th>\n",
       "      <th>type</th>\n",
       "    </tr>\n",
       "    <tr>\n",
       "      <th>name</th>\n",
       "      <th></th>\n",
       "      <th></th>\n",
       "      <th></th>\n",
       "      <th></th>\n",
       "      <th></th>\n",
       "      <th></th>\n",
       "    </tr>\n",
       "  </thead>\n",
       "  <tbody>\n",
       "    <tr>\n",
       "      <th>gov.administrators</th>\n",
       "      <td>13.11</td>\n",
       "      <td>12351</td>\n",
       "      <td>11.16</td>\n",
       "      <td>68.8</td>\n",
       "      <td>1113</td>\n",
       "      <td>prof</td>\n",
       "    </tr>\n",
       "    <tr>\n",
       "      <th>general.managers</th>\n",
       "      <td>12.26</td>\n",
       "      <td>25879</td>\n",
       "      <td>4.02</td>\n",
       "      <td>69.1</td>\n",
       "      <td>1130</td>\n",
       "      <td>prof</td>\n",
       "    </tr>\n",
       "    <tr>\n",
       "      <th>accountants</th>\n",
       "      <td>12.77</td>\n",
       "      <td>9271</td>\n",
       "      <td>15.70</td>\n",
       "      <td>63.4</td>\n",
       "      <td>1171</td>\n",
       "      <td>prof</td>\n",
       "    </tr>\n",
       "    <tr>\n",
       "      <th>purchasing.officers</th>\n",
       "      <td>11.42</td>\n",
       "      <td>8865</td>\n",
       "      <td>9.11</td>\n",
       "      <td>56.8</td>\n",
       "      <td>1175</td>\n",
       "      <td>prof</td>\n",
       "    </tr>\n",
       "    <tr>\n",
       "      <th>chemists</th>\n",
       "      <td>14.62</td>\n",
       "      <td>8403</td>\n",
       "      <td>11.68</td>\n",
       "      <td>73.5</td>\n",
       "      <td>2111</td>\n",
       "      <td>prof</td>\n",
       "    </tr>\n",
       "  </tbody>\n",
       "</table>\n",
       "</div>"
      ],
      "text/plain": [
       "                     education  income  women  prestige  census  type\n",
       "name                                                                 \n",
       "gov.administrators       13.11   12351  11.16      68.8    1113  prof\n",
       "general.managers         12.26   25879   4.02      69.1    1130  prof\n",
       "accountants              12.77    9271  15.70      63.4    1171  prof\n",
       "purchasing.officers      11.42    8865   9.11      56.8    1175  prof\n",
       "chemists                 14.62    8403  11.68      73.5    2111  prof"
      ]
     },
     "execution_count": 11,
     "metadata": {},
     "output_type": "execute_result"
    }
   ],
   "source": [
    "professions.head()"
   ]
  },
  {
   "cell_type": "code",
   "execution_count": 12,
   "id": "9c686337",
   "metadata": {},
   "outputs": [],
   "source": [
    "professions.loc['chemists', 'type'] = 'scientist'"
   ]
  },
  {
   "cell_type": "code",
   "execution_count": 13,
   "id": "38d71ad9",
   "metadata": {},
   "outputs": [
    {
     "data": {
      "text/html": [
       "<div>\n",
       "<style scoped>\n",
       "    .dataframe tbody tr th:only-of-type {\n",
       "        vertical-align: middle;\n",
       "    }\n",
       "\n",
       "    .dataframe tbody tr th {\n",
       "        vertical-align: top;\n",
       "    }\n",
       "\n",
       "    .dataframe thead th {\n",
       "        text-align: right;\n",
       "    }\n",
       "</style>\n",
       "<table border=\"1\" class=\"dataframe\">\n",
       "  <thead>\n",
       "    <tr style=\"text-align: right;\">\n",
       "      <th></th>\n",
       "      <th>education</th>\n",
       "      <th>income</th>\n",
       "      <th>women</th>\n",
       "      <th>prestige</th>\n",
       "      <th>census</th>\n",
       "      <th>type</th>\n",
       "    </tr>\n",
       "    <tr>\n",
       "      <th>name</th>\n",
       "      <th></th>\n",
       "      <th></th>\n",
       "      <th></th>\n",
       "      <th></th>\n",
       "      <th></th>\n",
       "      <th></th>\n",
       "    </tr>\n",
       "  </thead>\n",
       "  <tbody>\n",
       "    <tr>\n",
       "      <th>gov.administrators</th>\n",
       "      <td>13.11</td>\n",
       "      <td>12351</td>\n",
       "      <td>11.16</td>\n",
       "      <td>68.8</td>\n",
       "      <td>1113</td>\n",
       "      <td>prof</td>\n",
       "    </tr>\n",
       "    <tr>\n",
       "      <th>general.managers</th>\n",
       "      <td>12.26</td>\n",
       "      <td>25879</td>\n",
       "      <td>4.02</td>\n",
       "      <td>69.1</td>\n",
       "      <td>1130</td>\n",
       "      <td>prof</td>\n",
       "    </tr>\n",
       "    <tr>\n",
       "      <th>accountants</th>\n",
       "      <td>12.77</td>\n",
       "      <td>9271</td>\n",
       "      <td>15.70</td>\n",
       "      <td>63.4</td>\n",
       "      <td>1171</td>\n",
       "      <td>prof</td>\n",
       "    </tr>\n",
       "    <tr>\n",
       "      <th>purchasing.officers</th>\n",
       "      <td>11.42</td>\n",
       "      <td>8865</td>\n",
       "      <td>9.11</td>\n",
       "      <td>56.8</td>\n",
       "      <td>1175</td>\n",
       "      <td>prof</td>\n",
       "    </tr>\n",
       "    <tr>\n",
       "      <th>chemists</th>\n",
       "      <td>14.62</td>\n",
       "      <td>8403</td>\n",
       "      <td>11.68</td>\n",
       "      <td>73.5</td>\n",
       "      <td>2111</td>\n",
       "      <td>scientist</td>\n",
       "    </tr>\n",
       "  </tbody>\n",
       "</table>\n",
       "</div>"
      ],
      "text/plain": [
       "                     education  income  women  prestige  census       type\n",
       "name                                                                      \n",
       "gov.administrators       13.11   12351  11.16      68.8    1113       prof\n",
       "general.managers         12.26   25879   4.02      69.1    1130       prof\n",
       "accountants              12.77    9271  15.70      63.4    1171       prof\n",
       "purchasing.officers      11.42    8865   9.11      56.8    1175       prof\n",
       "chemists                 14.62    8403  11.68      73.5    2111  scientist"
      ]
     },
     "execution_count": 13,
     "metadata": {},
     "output_type": "execute_result"
    }
   ],
   "source": [
    "professions.head()"
   ]
  },
  {
   "cell_type": "code",
   "execution_count": 14,
   "id": "28d0baf6",
   "metadata": {},
   "outputs": [],
   "source": [
    "isScientist = professions['type'] == 'scientist'"
   ]
  },
  {
   "cell_type": "code",
   "execution_count": 16,
   "id": "992d74fa",
   "metadata": {},
   "outputs": [
    {
     "data": {
      "text/plain": [
       "name\n",
       "gov.administrators     False\n",
       "general.managers       False\n",
       "accountants            False\n",
       "purchasing.officers    False\n",
       "chemists                True\n",
       "Name: type, dtype: bool"
      ]
     },
     "execution_count": 16,
     "metadata": {},
     "output_type": "execute_result"
    }
   ],
   "source": [
    "isScientist.head()"
   ]
  },
  {
   "cell_type": "code",
   "execution_count": 23,
   "id": "1a378eb9",
   "metadata": {},
   "outputs": [],
   "source": [
    "professions.loc[isScientist, 'prestige'] += 90"
   ]
  },
  {
   "cell_type": "code",
   "execution_count": 24,
   "id": "09494aa5",
   "metadata": {},
   "outputs": [
    {
     "data": {
      "text/html": [
       "<div>\n",
       "<style scoped>\n",
       "    .dataframe tbody tr th:only-of-type {\n",
       "        vertical-align: middle;\n",
       "    }\n",
       "\n",
       "    .dataframe tbody tr th {\n",
       "        vertical-align: top;\n",
       "    }\n",
       "\n",
       "    .dataframe thead th {\n",
       "        text-align: right;\n",
       "    }\n",
       "</style>\n",
       "<table border=\"1\" class=\"dataframe\">\n",
       "  <thead>\n",
       "    <tr style=\"text-align: right;\">\n",
       "      <th></th>\n",
       "      <th>education</th>\n",
       "      <th>income</th>\n",
       "      <th>women</th>\n",
       "      <th>prestige</th>\n",
       "      <th>census</th>\n",
       "      <th>type</th>\n",
       "    </tr>\n",
       "    <tr>\n",
       "      <th>name</th>\n",
       "      <th></th>\n",
       "      <th></th>\n",
       "      <th></th>\n",
       "      <th></th>\n",
       "      <th></th>\n",
       "      <th></th>\n",
       "    </tr>\n",
       "  </thead>\n",
       "  <tbody>\n",
       "    <tr>\n",
       "      <th>gov.administrators</th>\n",
       "      <td>13.11</td>\n",
       "      <td>12351</td>\n",
       "      <td>11.16</td>\n",
       "      <td>68.8</td>\n",
       "      <td>1113</td>\n",
       "      <td>prof</td>\n",
       "    </tr>\n",
       "    <tr>\n",
       "      <th>general.managers</th>\n",
       "      <td>12.26</td>\n",
       "      <td>25879</td>\n",
       "      <td>4.02</td>\n",
       "      <td>69.1</td>\n",
       "      <td>1130</td>\n",
       "      <td>prof</td>\n",
       "    </tr>\n",
       "    <tr>\n",
       "      <th>accountants</th>\n",
       "      <td>12.77</td>\n",
       "      <td>9271</td>\n",
       "      <td>15.70</td>\n",
       "      <td>63.4</td>\n",
       "      <td>1171</td>\n",
       "      <td>prof</td>\n",
       "    </tr>\n",
       "    <tr>\n",
       "      <th>purchasing.officers</th>\n",
       "      <td>11.42</td>\n",
       "      <td>8865</td>\n",
       "      <td>9.11</td>\n",
       "      <td>56.8</td>\n",
       "      <td>1175</td>\n",
       "      <td>prof</td>\n",
       "    </tr>\n",
       "    <tr>\n",
       "      <th>chemists</th>\n",
       "      <td>14.62</td>\n",
       "      <td>8403</td>\n",
       "      <td>11.68</td>\n",
       "      <td>343.5</td>\n",
       "      <td>2111</td>\n",
       "      <td>scientist</td>\n",
       "    </tr>\n",
       "  </tbody>\n",
       "</table>\n",
       "</div>"
      ],
      "text/plain": [
       "                     education  income  women  prestige  census       type\n",
       "name                                                                      \n",
       "gov.administrators       13.11   12351  11.16      68.8    1113       prof\n",
       "general.managers         12.26   25879   4.02      69.1    1130       prof\n",
       "accountants              12.77    9271  15.70      63.4    1171       prof\n",
       "purchasing.officers      11.42    8865   9.11      56.8    1175       prof\n",
       "chemists                 14.62    8403  11.68     343.5    2111  scientist"
      ]
     },
     "execution_count": 24,
     "metadata": {},
     "output_type": "execute_result"
    }
   ],
   "source": [
    "professions.head()"
   ]
  },
  {
   "cell_type": "code",
   "execution_count": null,
   "id": "e92832f9",
   "metadata": {},
   "outputs": [],
   "source": [
    "professions.loc[isScientist, 'income'] = professions['income'] "
   ]
  }
 ],
 "metadata": {
  "kernelspec": {
   "display_name": "Python 3 (ipykernel)",
   "language": "python",
   "name": "python3"
  },
  "language_info": {
   "codemirror_mode": {
    "name": "ipython",
    "version": 3
   },
   "file_extension": ".py",
   "mimetype": "text/x-python",
   "name": "python",
   "nbconvert_exporter": "python",
   "pygments_lexer": "ipython3",
   "version": "3.10.0"
  }
 },
 "nbformat": 4,
 "nbformat_minor": 5
}
