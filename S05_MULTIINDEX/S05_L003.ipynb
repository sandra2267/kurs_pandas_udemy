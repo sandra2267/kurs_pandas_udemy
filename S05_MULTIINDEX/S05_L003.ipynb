{
 "cells": [
  {
   "cell_type": "code",
   "execution_count": 1,
   "id": "d715ca5e",
   "metadata": {},
   "outputs": [],
   "source": [
    "import pandas as pd"
   ]
  },
  {
   "cell_type": "code",
   "execution_count": 2,
   "id": "f8c17165",
   "metadata": {},
   "outputs": [],
   "source": [
    "fuel = pd.read_csv('/Users/sandramarczak/Documents/udemy/pandas_rafal_mobilo/course-files/fuel.csv', usecols=[ 'Year','Make','Model','Range (FT1)','City Range (FT1)'], index_col=['Year','Make','Model'])"
   ]
  },
  {
   "cell_type": "code",
   "execution_count": 3,
   "id": "a6701efa",
   "metadata": {},
   "outputs": [],
   "source": [
    "fuel.sort_index(inplace=True)"
   ]
  },
  {
   "cell_type": "code",
   "execution_count": 4,
   "id": "822c56b5",
   "metadata": {},
   "outputs": [
    {
     "data": {
      "text/html": [
       "<div>\n",
       "<style scoped>\n",
       "    .dataframe tbody tr th:only-of-type {\n",
       "        vertical-align: middle;\n",
       "    }\n",
       "\n",
       "    .dataframe tbody tr th {\n",
       "        vertical-align: top;\n",
       "    }\n",
       "\n",
       "    .dataframe thead th {\n",
       "        text-align: right;\n",
       "    }\n",
       "</style>\n",
       "<table border=\"1\" class=\"dataframe\">\n",
       "  <thead>\n",
       "    <tr style=\"text-align: right;\">\n",
       "      <th></th>\n",
       "      <th></th>\n",
       "      <th></th>\n",
       "      <th>Range (FT1)</th>\n",
       "      <th>City Range (FT1)</th>\n",
       "    </tr>\n",
       "    <tr>\n",
       "      <th>Year</th>\n",
       "      <th>Make</th>\n",
       "      <th>Model</th>\n",
       "      <th></th>\n",
       "      <th></th>\n",
       "    </tr>\n",
       "  </thead>\n",
       "  <tbody>\n",
       "    <tr>\n",
       "      <th rowspan=\"5\" valign=\"top\">1984</th>\n",
       "      <th rowspan=\"4\" valign=\"top\">AM General</th>\n",
       "      <th>DJ Po Vehicle 2WD</th>\n",
       "      <td>0.0</td>\n",
       "      <td>0.0</td>\n",
       "    </tr>\n",
       "    <tr>\n",
       "      <th>DJ Po Vehicle 2WD</th>\n",
       "      <td>0.0</td>\n",
       "      <td>0.0</td>\n",
       "    </tr>\n",
       "    <tr>\n",
       "      <th>FJ8c Post Office</th>\n",
       "      <td>0.0</td>\n",
       "      <td>0.0</td>\n",
       "    </tr>\n",
       "    <tr>\n",
       "      <th>FJ8c Post Office</th>\n",
       "      <td>0.0</td>\n",
       "      <td>0.0</td>\n",
       "    </tr>\n",
       "    <tr>\n",
       "      <th>Alfa Romeo</th>\n",
       "      <th>GT V6 2.5</th>\n",
       "      <td>0.0</td>\n",
       "      <td>0.0</td>\n",
       "    </tr>\n",
       "  </tbody>\n",
       "</table>\n",
       "</div>"
      ],
      "text/plain": [
       "                                   Range (FT1)  City Range (FT1)\n",
       "Year Make       Model                                           \n",
       "1984 AM General DJ Po Vehicle 2WD          0.0               0.0\n",
       "                DJ Po Vehicle 2WD          0.0               0.0\n",
       "                FJ8c Post Office           0.0               0.0\n",
       "                FJ8c Post Office           0.0               0.0\n",
       "     Alfa Romeo GT V6 2.5                  0.0               0.0"
      ]
     },
     "execution_count": 4,
     "metadata": {},
     "output_type": "execute_result"
    }
   ],
   "source": [
    "fuel.head()"
   ]
  },
  {
   "cell_type": "code",
   "execution_count": 7,
   "id": "cf6b17b2",
   "metadata": {},
   "outputs": [
    {
     "data": {
      "text/html": [
       "<div>\n",
       "<style scoped>\n",
       "    .dataframe tbody tr th:only-of-type {\n",
       "        vertical-align: middle;\n",
       "    }\n",
       "\n",
       "    .dataframe tbody tr th {\n",
       "        vertical-align: top;\n",
       "    }\n",
       "\n",
       "    .dataframe thead th {\n",
       "        text-align: right;\n",
       "    }\n",
       "</style>\n",
       "<table border=\"1\" class=\"dataframe\">\n",
       "  <thead>\n",
       "    <tr style=\"text-align: right;\">\n",
       "      <th></th>\n",
       "      <th></th>\n",
       "      <th>Range (FT1)</th>\n",
       "      <th>City Range (FT1)</th>\n",
       "    </tr>\n",
       "    <tr>\n",
       "      <th>Make</th>\n",
       "      <th>Model</th>\n",
       "      <th></th>\n",
       "      <th></th>\n",
       "    </tr>\n",
       "  </thead>\n",
       "  <tbody>\n",
       "    <tr>\n",
       "      <th rowspan=\"4\" valign=\"top\">AM General</th>\n",
       "      <th>DJ Po Vehicle 2WD</th>\n",
       "      <td>0.0</td>\n",
       "      <td>0.0</td>\n",
       "    </tr>\n",
       "    <tr>\n",
       "      <th>DJ Po Vehicle 2WD</th>\n",
       "      <td>0.0</td>\n",
       "      <td>0.0</td>\n",
       "    </tr>\n",
       "    <tr>\n",
       "      <th>FJ8c Post Office</th>\n",
       "      <td>0.0</td>\n",
       "      <td>0.0</td>\n",
       "    </tr>\n",
       "    <tr>\n",
       "      <th>FJ8c Post Office</th>\n",
       "      <td>0.0</td>\n",
       "      <td>0.0</td>\n",
       "    </tr>\n",
       "    <tr>\n",
       "      <th>Alfa Romeo</th>\n",
       "      <th>GT V6 2.5</th>\n",
       "      <td>0.0</td>\n",
       "      <td>0.0</td>\n",
       "    </tr>\n",
       "    <tr>\n",
       "      <th>...</th>\n",
       "      <th>...</th>\n",
       "      <td>...</td>\n",
       "      <td>...</td>\n",
       "    </tr>\n",
       "    <tr>\n",
       "      <th rowspan=\"5\" valign=\"top\">Volvo</th>\n",
       "      <th>760 GLE</th>\n",
       "      <td>0.0</td>\n",
       "      <td>0.0</td>\n",
       "    </tr>\n",
       "    <tr>\n",
       "      <th>760 GLE</th>\n",
       "      <td>0.0</td>\n",
       "      <td>0.0</td>\n",
       "    </tr>\n",
       "    <tr>\n",
       "      <th>760 GLE</th>\n",
       "      <td>0.0</td>\n",
       "      <td>0.0</td>\n",
       "    </tr>\n",
       "    <tr>\n",
       "      <th>760 GLE</th>\n",
       "      <td>0.0</td>\n",
       "      <td>0.0</td>\n",
       "    </tr>\n",
       "    <tr>\n",
       "      <th>760 GLE</th>\n",
       "      <td>0.0</td>\n",
       "      <td>0.0</td>\n",
       "    </tr>\n",
       "  </tbody>\n",
       "</table>\n",
       "<p>1964 rows × 2 columns</p>\n",
       "</div>"
      ],
      "text/plain": [
       "                              Range (FT1)  City Range (FT1)\n",
       "Make       Model                                           \n",
       "AM General DJ Po Vehicle 2WD          0.0               0.0\n",
       "           DJ Po Vehicle 2WD          0.0               0.0\n",
       "           FJ8c Post Office           0.0               0.0\n",
       "           FJ8c Post Office           0.0               0.0\n",
       "Alfa Romeo GT V6 2.5                  0.0               0.0\n",
       "...                                   ...               ...\n",
       "Volvo      760 GLE                    0.0               0.0\n",
       "           760 GLE                    0.0               0.0\n",
       "           760 GLE                    0.0               0.0\n",
       "           760 GLE                    0.0               0.0\n",
       "           760 GLE                    0.0               0.0\n",
       "\n",
       "[1964 rows x 2 columns]"
      ]
     },
     "execution_count": 7,
     "metadata": {},
     "output_type": "execute_result"
    }
   ],
   "source": [
    "fuel.loc[(1984)]"
   ]
  },
  {
   "cell_type": "code",
   "execution_count": 8,
   "id": "37ee6be7",
   "metadata": {},
   "outputs": [
    {
     "data": {
      "text/html": [
       "<div>\n",
       "<style scoped>\n",
       "    .dataframe tbody tr th:only-of-type {\n",
       "        vertical-align: middle;\n",
       "    }\n",
       "\n",
       "    .dataframe tbody tr th {\n",
       "        vertical-align: top;\n",
       "    }\n",
       "\n",
       "    .dataframe thead th {\n",
       "        text-align: right;\n",
       "    }\n",
       "</style>\n",
       "<table border=\"1\" class=\"dataframe\">\n",
       "  <thead>\n",
       "    <tr style=\"text-align: right;\">\n",
       "      <th></th>\n",
       "      <th>Range (FT1)</th>\n",
       "      <th>City Range (FT1)</th>\n",
       "    </tr>\n",
       "    <tr>\n",
       "      <th>Model</th>\n",
       "      <th></th>\n",
       "      <th></th>\n",
       "    </tr>\n",
       "  </thead>\n",
       "  <tbody>\n",
       "    <tr>\n",
       "      <th>GT V6 2.5</th>\n",
       "      <td>0.0</td>\n",
       "      <td>0.0</td>\n",
       "    </tr>\n",
       "    <tr>\n",
       "      <th>GT V6 2.5</th>\n",
       "      <td>0.0</td>\n",
       "      <td>0.0</td>\n",
       "    </tr>\n",
       "    <tr>\n",
       "      <th>Spider Veloce 2000</th>\n",
       "      <td>0.0</td>\n",
       "      <td>0.0</td>\n",
       "    </tr>\n",
       "    <tr>\n",
       "      <th>Spider Veloce 2000</th>\n",
       "      <td>0.0</td>\n",
       "      <td>0.0</td>\n",
       "    </tr>\n",
       "  </tbody>\n",
       "</table>\n",
       "</div>"
      ],
      "text/plain": [
       "                    Range (FT1)  City Range (FT1)\n",
       "Model                                            \n",
       "GT V6 2.5                   0.0               0.0\n",
       "GT V6 2.5                   0.0               0.0\n",
       "Spider Veloce 2000          0.0               0.0\n",
       "Spider Veloce 2000          0.0               0.0"
      ]
     },
     "execution_count": 8,
     "metadata": {},
     "output_type": "execute_result"
    }
   ],
   "source": [
    "fuel.loc[(1984, 'Alfa Romeo')]"
   ]
  },
  {
   "cell_type": "code",
   "execution_count": 9,
   "id": "fd3ff5e0",
   "metadata": {},
   "outputs": [
    {
     "data": {
      "text/html": [
       "<div>\n",
       "<style scoped>\n",
       "    .dataframe tbody tr th:only-of-type {\n",
       "        vertical-align: middle;\n",
       "    }\n",
       "\n",
       "    .dataframe tbody tr th {\n",
       "        vertical-align: top;\n",
       "    }\n",
       "\n",
       "    .dataframe thead th {\n",
       "        text-align: right;\n",
       "    }\n",
       "</style>\n",
       "<table border=\"1\" class=\"dataframe\">\n",
       "  <thead>\n",
       "    <tr style=\"text-align: right;\">\n",
       "      <th></th>\n",
       "      <th></th>\n",
       "      <th></th>\n",
       "      <th>Range (FT1)</th>\n",
       "      <th>City Range (FT1)</th>\n",
       "    </tr>\n",
       "    <tr>\n",
       "      <th>Year</th>\n",
       "      <th>Make</th>\n",
       "      <th>Model</th>\n",
       "      <th></th>\n",
       "      <th></th>\n",
       "    </tr>\n",
       "  </thead>\n",
       "  <tbody>\n",
       "    <tr>\n",
       "      <th rowspan=\"2\" valign=\"top\">1984</th>\n",
       "      <th rowspan=\"2\" valign=\"top\">Alfa Romeo</th>\n",
       "      <th>Spider Veloce 2000</th>\n",
       "      <td>0.0</td>\n",
       "      <td>0.0</td>\n",
       "    </tr>\n",
       "    <tr>\n",
       "      <th>Spider Veloce 2000</th>\n",
       "      <td>0.0</td>\n",
       "      <td>0.0</td>\n",
       "    </tr>\n",
       "  </tbody>\n",
       "</table>\n",
       "</div>"
      ],
      "text/plain": [
       "                                    Range (FT1)  City Range (FT1)\n",
       "Year Make       Model                                            \n",
       "1984 Alfa Romeo Spider Veloce 2000          0.0               0.0\n",
       "                Spider Veloce 2000          0.0               0.0"
      ]
     },
     "execution_count": 9,
     "metadata": {},
     "output_type": "execute_result"
    }
   ],
   "source": [
    "fuel.loc[(1984,'Alfa Romeo','Spider Veloce 2000')]"
   ]
  },
  {
   "cell_type": "code",
   "execution_count": 10,
   "id": "f2ce7e75",
   "metadata": {},
   "outputs": [
    {
     "data": {
      "text/plain": [
       "Year  Make        Model             \n",
       "1984  Alfa Romeo  Spider Veloce 2000    0.0\n",
       "                  Spider Veloce 2000    0.0\n",
       "Name: Range (FT1), dtype: float64"
      ]
     },
     "execution_count": 10,
     "metadata": {},
     "output_type": "execute_result"
    }
   ],
   "source": [
    "fuel.loc[(1984,'Alfa Romeo','Spider Veloce 2000'),'Range (FT1)']"
   ]
  },
  {
   "cell_type": "code",
   "execution_count": 11,
   "id": "e87037a0",
   "metadata": {},
   "outputs": [],
   "source": [
    "fuel = fuel.transpose()"
   ]
  },
  {
   "cell_type": "code",
   "execution_count": 12,
   "id": "fe822908",
   "metadata": {},
   "outputs": [
    {
     "data": {
      "text/html": [
       "<div>\n",
       "<style scoped>\n",
       "    .dataframe tbody tr th:only-of-type {\n",
       "        vertical-align: middle;\n",
       "    }\n",
       "\n",
       "    .dataframe tbody tr th {\n",
       "        vertical-align: top;\n",
       "    }\n",
       "\n",
       "    .dataframe thead tr th {\n",
       "        text-align: left;\n",
       "    }\n",
       "</style>\n",
       "<table border=\"1\" class=\"dataframe\">\n",
       "  <thead>\n",
       "    <tr>\n",
       "      <th>Year</th>\n",
       "      <th colspan=\"10\" halign=\"left\">1984</th>\n",
       "      <th>...</th>\n",
       "      <th colspan=\"10\" halign=\"left\">2012</th>\n",
       "    </tr>\n",
       "    <tr>\n",
       "      <th>Make</th>\n",
       "      <th colspan=\"4\" halign=\"left\">AM General</th>\n",
       "      <th colspan=\"4\" halign=\"left\">Alfa Romeo</th>\n",
       "      <th colspan=\"2\" halign=\"left\">American Motors Corporation</th>\n",
       "      <th>...</th>\n",
       "      <th colspan=\"10\" halign=\"left\">Mitsubishi</th>\n",
       "    </tr>\n",
       "    <tr>\n",
       "      <th>Model</th>\n",
       "      <th>DJ Po Vehicle 2WD</th>\n",
       "      <th>DJ Po Vehicle 2WD</th>\n",
       "      <th>FJ8c Post Office</th>\n",
       "      <th>FJ8c Post Office</th>\n",
       "      <th>GT V6 2.5</th>\n",
       "      <th>GT V6 2.5</th>\n",
       "      <th>Spider Veloce 2000</th>\n",
       "      <th>Spider Veloce 2000</th>\n",
       "      <th>Eagle 4WD</th>\n",
       "      <th>Eagle 4WD</th>\n",
       "      <th>...</th>\n",
       "      <th>Galant</th>\n",
       "      <th>Lancer</th>\n",
       "      <th>Lancer</th>\n",
       "      <th>Lancer</th>\n",
       "      <th>Lancer</th>\n",
       "      <th>Lancer</th>\n",
       "      <th>Lancer AWD</th>\n",
       "      <th>Lancer Evolution</th>\n",
       "      <th>Lancer Evolution</th>\n",
       "      <th>i-MiEV</th>\n",
       "    </tr>\n",
       "  </thead>\n",
       "  <tbody>\n",
       "    <tr>\n",
       "      <th>Range (FT1)</th>\n",
       "      <td>0.0</td>\n",
       "      <td>0.0</td>\n",
       "      <td>0.0</td>\n",
       "      <td>0.0</td>\n",
       "      <td>0.0</td>\n",
       "      <td>0.0</td>\n",
       "      <td>0.0</td>\n",
       "      <td>0.0</td>\n",
       "      <td>0.0</td>\n",
       "      <td>0.0</td>\n",
       "      <td>...</td>\n",
       "      <td>0.0</td>\n",
       "      <td>0.0</td>\n",
       "      <td>0.0</td>\n",
       "      <td>0.0</td>\n",
       "      <td>0.0</td>\n",
       "      <td>0.0</td>\n",
       "      <td>0.0</td>\n",
       "      <td>0.0</td>\n",
       "      <td>0.0</td>\n",
       "      <td>62.0000</td>\n",
       "    </tr>\n",
       "    <tr>\n",
       "      <th>City Range (FT1)</th>\n",
       "      <td>0.0</td>\n",
       "      <td>0.0</td>\n",
       "      <td>0.0</td>\n",
       "      <td>0.0</td>\n",
       "      <td>0.0</td>\n",
       "      <td>0.0</td>\n",
       "      <td>0.0</td>\n",
       "      <td>0.0</td>\n",
       "      <td>0.0</td>\n",
       "      <td>0.0</td>\n",
       "      <td>...</td>\n",
       "      <td>0.0</td>\n",
       "      <td>0.0</td>\n",
       "      <td>0.0</td>\n",
       "      <td>0.0</td>\n",
       "      <td>0.0</td>\n",
       "      <td>0.0</td>\n",
       "      <td>0.0</td>\n",
       "      <td>0.0</td>\n",
       "      <td>0.0</td>\n",
       "      <td>68.5545</td>\n",
       "    </tr>\n",
       "  </tbody>\n",
       "</table>\n",
       "<p>2 rows × 31684 columns</p>\n",
       "</div>"
      ],
      "text/plain": [
       "Year                          1984                                     \\\n",
       "Make                    AM General                                      \n",
       "Model            DJ Po Vehicle 2WD DJ Po Vehicle 2WD FJ8c Post Office   \n",
       "Range (FT1)                    0.0               0.0              0.0   \n",
       "City Range (FT1)               0.0               0.0              0.0   \n",
       "\n",
       "Year                                                                       \\\n",
       "Make                              Alfa Romeo                                \n",
       "Model            FJ8c Post Office  GT V6 2.5 GT V6 2.5 Spider Veloce 2000   \n",
       "Range (FT1)                   0.0        0.0       0.0                0.0   \n",
       "City Range (FT1)              0.0        0.0       0.0                0.0   \n",
       "\n",
       "Year                                                                       \\\n",
       "Make                                American Motors Corporation             \n",
       "Model            Spider Veloce 2000                   Eagle 4WD Eagle 4WD   \n",
       "Range (FT1)                     0.0                         0.0       0.0   \n",
       "City Range (FT1)                0.0                         0.0       0.0   \n",
       "\n",
       "Year              ...       2012                                     \\\n",
       "Make              ... Mitsubishi                                      \n",
       "Model             ...     Galant Lancer Lancer Lancer Lancer Lancer   \n",
       "Range (FT1)       ...        0.0    0.0    0.0    0.0    0.0    0.0   \n",
       "City Range (FT1)  ...        0.0    0.0    0.0    0.0    0.0    0.0   \n",
       "\n",
       "Year                                                                    \n",
       "Make                                                                    \n",
       "Model            Lancer AWD Lancer Evolution Lancer Evolution   i-MiEV  \n",
       "Range (FT1)             0.0              0.0              0.0  62.0000  \n",
       "City Range (FT1)        0.0              0.0              0.0  68.5545  \n",
       "\n",
       "[2 rows x 31684 columns]"
      ]
     },
     "execution_count": 12,
     "metadata": {},
     "output_type": "execute_result"
    }
   ],
   "source": [
    "fuel.head()"
   ]
  },
  {
   "cell_type": "code",
   "execution_count": 13,
   "id": "4e1fd9ba",
   "metadata": {},
   "outputs": [
    {
     "data": {
      "text/plain": [
       "Year  Make        Model            \n",
       "1984  AM General  DJ Po Vehicle 2WD     0.0\n",
       "                  DJ Po Vehicle 2WD     0.0\n",
       "                  FJ8c Post Office      0.0\n",
       "                  FJ8c Post Office      0.0\n",
       "      Alfa Romeo  GT V6 2.5             0.0\n",
       "                                       ... \n",
       "2012  Mitsubishi  Lancer                0.0\n",
       "                  Lancer AWD            0.0\n",
       "                  Lancer Evolution      0.0\n",
       "                  Lancer Evolution      0.0\n",
       "                  i-MiEV               62.0\n",
       "Name: Range (FT1), Length: 31684, dtype: float64"
      ]
     },
     "execution_count": 13,
     "metadata": {},
     "output_type": "execute_result"
    }
   ],
   "source": [
    "fuel.loc[('Range (FT1)')]"
   ]
  },
  {
   "cell_type": "code",
   "execution_count": 14,
   "id": "d452d9cb",
   "metadata": {},
   "outputs": [
    {
     "data": {
      "text/plain": [
       "Make        Model            \n",
       "AM General  DJ Po Vehicle 2WD    0.0\n",
       "            DJ Po Vehicle 2WD    0.0\n",
       "            FJ8c Post Office     0.0\n",
       "            FJ8c Post Office     0.0\n",
       "Alfa Romeo  GT V6 2.5            0.0\n",
       "                                ... \n",
       "Volvo       760 GLE              0.0\n",
       "            760 GLE              0.0\n",
       "            760 GLE              0.0\n",
       "            760 GLE              0.0\n",
       "            760 GLE              0.0\n",
       "Name: Range (FT1), Length: 1964, dtype: float64"
      ]
     },
     "execution_count": 14,
     "metadata": {},
     "output_type": "execute_result"
    }
   ],
   "source": [
    "fuel.loc['Range (FT1)', (1984)]"
   ]
  },
  {
   "cell_type": "code",
   "execution_count": 15,
   "id": "508e92de",
   "metadata": {},
   "outputs": [
    {
     "data": {
      "text/plain": [
       "Model\n",
       "GT V6 2.5             0.0\n",
       "GT V6 2.5             0.0\n",
       "Spider Veloce 2000    0.0\n",
       "Spider Veloce 2000    0.0\n",
       "Name: Range (FT1), dtype: float64"
      ]
     },
     "execution_count": 15,
     "metadata": {},
     "output_type": "execute_result"
    }
   ],
   "source": [
    "fuel.loc['Range (FT1)', (1984, 'Alfa Romeo')]"
   ]
  },
  {
   "cell_type": "code",
   "execution_count": 16,
   "id": "d3a81d20",
   "metadata": {},
   "outputs": [
    {
     "data": {
      "text/plain": [
       "Year  Make        Model             \n",
       "1984  Alfa Romeo  Spider Veloce 2000    0.0\n",
       "                  Spider Veloce 2000    0.0\n",
       "Name: Range (FT1), dtype: float64"
      ]
     },
     "execution_count": 16,
     "metadata": {},
     "output_type": "execute_result"
    }
   ],
   "source": [
    "fuel.loc['Range (FT1)', (1984, 'Alfa Romeo', 'Spider Veloce 2000')]"
   ]
  },
  {
   "cell_type": "code",
   "execution_count": null,
   "id": "0be3f70a",
   "metadata": {},
   "outputs": [],
   "source": []
  }
 ],
 "metadata": {
  "kernelspec": {
   "display_name": "Python 3 (ipykernel)",
   "language": "python",
   "name": "python3"
  },
  "language_info": {
   "codemirror_mode": {
    "name": "ipython",
    "version": 3
   },
   "file_extension": ".py",
   "mimetype": "text/x-python",
   "name": "python",
   "nbconvert_exporter": "python",
   "pygments_lexer": "ipython3",
   "version": "3.10.0"
  }
 },
 "nbformat": 4,
 "nbformat_minor": 5
}
